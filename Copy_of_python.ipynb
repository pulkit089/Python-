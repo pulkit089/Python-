{
  "nbformat": 4,
  "nbformat_minor": 0,
  "metadata": {
    "colab": {
      "provenance": [],
      "authorship_tag": "ABX9TyM8rRXjKpHk0O0c2mCm5IWy",
      "include_colab_link": true
    },
    "kernelspec": {
      "name": "python3",
      "display_name": "Python 3"
    },
    "language_info": {
      "name": "python"
    }
  },
  "cells": [
    {
      "cell_type": "markdown",
      "metadata": {
        "id": "view-in-github",
        "colab_type": "text"
      },
      "source": [
        "<a href=\"https://colab.research.google.com/github/pulkit089/Python-/blob/main/Copy_of_python.ipynb\" target=\"_parent\"><img src=\"https://colab.research.google.com/assets/colab-badge.svg\" alt=\"Open In Colab\"/></a>"
      ]
    },
    {
      "cell_type": "code",
      "source": [
        "# work done by me\n",
        "''' My name is Pulkit Rana, ans m from Himachal Pradesh Distt kangra\n",
        "and himachal is also called The Land of God\n",
        "I have Many friends There\n",
        "i Love Python, Python is a Widely used\n",
        "Language and used in every kind of technology'''\n",
        "print(\"helloworld\")"
      ],
      "metadata": {
        "colab": {
          "base_uri": "https://localhost:8080/"
        },
        "id": "k95XcVLby3LF",
        "outputId": "c10733bf-9fdc-4c37-d616-8284989b1bce"
      },
      "execution_count": null,
      "outputs": [
        {
          "output_type": "stream",
          "name": "stdout",
          "text": [
            "helloworld\n"
          ]
        }
      ]
    },
    {
      "cell_type": "code",
      "source": [
        "print(\"              RESTAURANT MENUE\")\n",
        "print(\"\")\n",
        "print(\"              STARTER\")\n",
        "print(\"\")\n",
        "print(\"Greek Salad=             $15\")\n",
        "print(\"Finger Chips=            $18\")\n",
        "print(\"Paneer Cruspy=           $10\")\n",
        "print(\"Paneer Chilly=           $15\")\n",
        "print(\"Chicken Wings=           $20\")\n",
        "print(\"Caesar Salad=            $17\")\n",
        "print()\n",
        "print(\"\")\n",
        "print(\"             MAIN COURSE\")\n",
        "print(\"\")\n",
        "print(\"Chicken Tandoori=        $20\")\n",
        "print(\"Chicken Tikka=           $25\")\n",
        "print(\"Grilled Meatballs=       $30\")\n",
        "print(\"Lamb Steak=              $26\")\n",
        "print(\"Asian Chicken=           $30\")\n",
        "print(\"Lemon Chicken=           $28\")\n",
        "print(\"Malai Kofta=             $25\")\n",
        "print(\"\")\n",
        "print(\"            APPETIZERS\")\n",
        "print(\"\")\n",
        "print(\"Garlic Flatbread=        $30\")\n",
        "print(\"Tuna Tartaae=            $25\")\n",
        "print(\"Garlic Bread=            $32\")\n",
        "print(\"Cheese Fries=            $33\")\n",
        "print(\"Chicken Fingures=        $35\")\n",
        "print(\"Hotdog Sandwich=         $40\")\n",
        "print(\"Fish and Chips=          $45\")\n",
        "print(\"\")\n",
        "print(\"            DRINKS\")\n",
        "print(\"\")\n",
        "print(\"Coca-Cola Light=         $10\")\n",
        "print(\"Beer=                    $12\")\n",
        "print(\"Arabica Cafe=            $15\")\n",
        "print(\"Fresh Lemonade=          $20\")\n",
        "print(\"Cold Coffee=             $18\")\n",
        "print(\"\")\n",
        "print(\"            SALAD AND SOUPS\")\n",
        "print(\"\")\n",
        "print(\"Macaroni Soup=           $15\")\n",
        "print(\"Tex mex chilli=          $20\")\n",
        "print(\"Calamari=                $16\")\n",
        "print(\"Beef Taco=               $15\")\n",
        "print(\"Wonton Soup=             $20\")"
      ],
      "metadata": {
        "colab": {
          "base_uri": "https://localhost:8080/"
        },
        "id": "EsA9jZ1Elr_Y",
        "outputId": "0f2e67bc-ed0e-4246-8f7d-7c20b8f05178"
      },
      "execution_count": null,
      "outputs": [
        {
          "output_type": "stream",
          "name": "stdout",
          "text": [
            "              RESTAURANT MENUE\n",
            "\n",
            "              STARTER\n",
            "\n",
            "Greek Salad=             $15\n",
            "Finger Chips=            $18\n",
            "Paneer Cruspy=           $10\n",
            "Paneer Chilly=           $15\n",
            "Chicken Wings=           $20\n",
            "Caesar Salad=            $17\n",
            "\n",
            "             MAIN COURSE\n",
            "\n",
            "Chicken Tandoori=        $20\n",
            "Chicken Tikka=           $25\n",
            "Grilled Meatballs=       $30\n",
            "Lamb Steak=              $26\n",
            "Asian Chicken=           $30\n",
            "Lemon Chicken=           $28\n",
            "Malai Kofta=             $25\n",
            "\n",
            "            APPETIZERS\n",
            "\n",
            "Garlic Flatbread=        $30\n",
            "Tuna Tartaae=            $25\n",
            "Garlic Bread=            $32\n",
            "Cheese Fries=            $33\n",
            "Chicken Fingures=        $35\n",
            "Hotdog Sandwich=         $40\n",
            "Fish and Chips=          $45\n",
            "\n",
            "            DRINKS\n",
            "\n",
            "Coca-Cola Light=         $10\n",
            "Beer=                    $12\n",
            "Arabica Cafe=            $15\n",
            "Fresh Lemonade=          $20\n",
            "Cold Coffee=             $18\n",
            "\n",
            "            SALAD AND SOUPS\n",
            "\n",
            "Macaroni Soup=           $15\n",
            "Tex mex chilli=          $20\n",
            "Calamari=                $16\n",
            "Beef Taco=               $15\n",
            "Wonton Soup=             $20\n"
          ]
        }
      ]
    },
    {
      "cell_type": "code",
      "source": [
        "\n",
        "print(\"My name is Pulkit Rana\")\n",
        "print(\"My Age is 23\")"
      ],
      "metadata": {
        "id": "Sh7sAFON0l7m",
        "outputId": "f0db73b9-0338-4426-daa4-3a5995f5239e",
        "colab": {
          "base_uri": "https://localhost:8080/"
        }
      },
      "execution_count": null,
      "outputs": [
        {
          "output_type": "stream",
          "name": "stdout",
          "text": [
            "My name is Pulkit Rana\n",
            "My Age is 23\n"
          ]
        }
      ]
    },
    {
      "cell_type": "code",
      "source": [
        "my_name= \"Pulkit RRana\"\n",
        "myage=\"23\"\n",
        "phoneno=\"8091700386\"\n",
        "print(\"                                   PERSONAL DETAILS\")\n",
        "print(\"Name\", my_name)\n",
        "print(\"Age\" , myage)\n",
        "print(\"Time of birth= 6:12 PM\")\n",
        "print(\"Place of birth= Dehra Gopipur\")\n",
        "print(\"Email=023pulkitrana@gmail.com\")\n",
        "print(\"Mobuile No\" , phoneno)\n",
        "\n",
        "\n",
        "print(\"                                  EDUCATION QUALIFICATION      \")\n",
        "print(\"school= GAV Public School Kangra\")\n",
        "print(\"State= Himachal Pradesh\")\n",
        "print(\"College= DAV College Kangra\")\n",
        "print(\"Stream in school= Commerce\")\n",
        "print(\"Degree= Bachelors in commerce\")\n",
        "print(\"Course= Data Scientiest\")\n",
        "\n",
        "print(\"                                  FAMILY DETAILS     \")\n",
        "print(\"Mother's Name= Babita Thakur\")\n",
        "print(\"Father's Name= Shubhkaran Thakur\")\n",
        "print(\"siblings=N/A\")\n",
        "print(\"Address= VPO Jarot Teh Jawali Distt. Kangra Himachal Pradesh\")\n",
        "print(\"\")\n",
        "\n",
        "\n",
        "\n",
        "\n",
        "\n"
      ],
      "metadata": {
        "colab": {
          "base_uri": "https://localhost:8080/"
        },
        "id": "8rlSuMvO7yeA",
        "outputId": "ff387cf0-df23-40af-abe3-45c6bf98bf53"
      },
      "execution_count": null,
      "outputs": [
        {
          "output_type": "stream",
          "name": "stdout",
          "text": [
            "                                   PERSONAL DETAILS\n",
            "Name Pulkit RRana\n",
            "Age 23\n",
            "Time of birth= 6:12 PM\n",
            "Place of birth= Dehra Gopipur\n",
            "Email=023pulkitrana@gmail.com\n",
            "Mobuile No 8091700386\n",
            "                                  EDUCATION QUALIFICATION      \n",
            "school= GAV Public School Kangra\n",
            "State= Himachal Pradesh\n",
            "College= DAV College Kangra\n",
            "Stream in school= Commerce\n",
            "Degree= Bachelors in commerce\n",
            "Course= Data Scientiest\n",
            "                                  FAMILY DETAILS     \n",
            "Mother's Name= Babita Thakur\n",
            "Father's Name= Shubhkaran Thakur\n",
            "siblings=N/A\n",
            "Address= VPO Jarot Teh Jawali Distt. Kangra Himachal Pradesh\n",
            "\n"
          ]
        }
      ]
    },
    {
      "cell_type": "code",
      "source": [
        "a=10\n",
        "print(\"I am trying to put the  of a\", a)\n",
        "b=5.2\n",
        "print(\"Python is difficult\" , b)\n",
        "c=\"pulkit rana \"\n",
        "print(\"The value of C is\" , c)\n"
      ],
      "metadata": {
        "colab": {
          "base_uri": "https://localhost:8080/"
        },
        "id": "LHkKzxD3EJPQ",
        "outputId": "98005a58-7a7c-43b1-e1f1-b209564f5497"
      },
      "execution_count": null,
      "outputs": [
        {
          "output_type": "stream",
          "name": "stdout",
          "text": [
            "I am trying to put the  of a 10\n",
            "Python is difficult 5.2\n",
            "The value of C is pulkit rana \n"
          ]
        }
      ]
    },
    {
      "cell_type": "code",
      "source": [
        "# A short story about Myself\n",
        "print(\"\")\n",
        "name=  \"Pulkit Rana 23\"\n",
        "city=  \"Chandigarh Sector 15-A\"\n",
        "age=    23\n",
        "food=  \"Mutton\"\n",
        "animal=\"tiger\"\n",
        "place= \"Kangra Himachal Pradesh\"\n",
        "dream= \"Data scientiest.\"\n",
        "hobby= \"Play Cricket.\"\n",
        "Language=\"Python\"\n",
        "print(\"\")\n",
        "print(\"Let me tell you a story in brief about myself,\")\n",
        "print(\"My name is\" , name , \"and i am \" , age ,\"years old, and my favourite food which i always love to eat is\", food)\n",
        "print(\"i live in\" , city)\n",
        "print(\"But basically I m from\" , place,\"and the favourite part of my life is to watch and\",hobby)\n",
        "print(\"Everyday, I spend a few hours learning new tgings in\", Language)\n",
        "print(\"and my ultimate goal is to become a successfull\",dream)\n",
        "print(\"\")\n",
        "print(\"\")\n",
        "print(\"Thank you for reading a story about me.\")\n"
      ],
      "metadata": {
        "id": "Y-gOX2UaamJf",
        "outputId": "ce9ca3f3-c7a1-4bf8-956e-7efb9fc35fb6",
        "colab": {
          "base_uri": "https://localhost:8080/"
        }
      },
      "execution_count": null,
      "outputs": [
        {
          "output_type": "stream",
          "name": "stdout",
          "text": [
            "\n",
            "\n",
            "Let me tell you a story in brief about myself,\n",
            "My name is Pulkit Rana 23 and i am  23 years old, and my favourite food which i always love to eat is Mutton\n",
            "i live in Chandigarh Sector 15-A\n",
            "But basically I m from Kangra Himachal Pradesh and the favourite part of my life is to watch and Play Cricket.\n",
            "Everyday, I spend a few hours learning new tgings in Python\n",
            "and my ultimate goal is to become a successfull Data scientiest.\n",
            "\n",
            "\n",
            "Thank you for reading a story about me.\n"
          ]
        }
      ]
    },
    {
      "cell_type": "code",
      "source": [
        "a=int(input(\"price of pizza:         \"))\n",
        "print(\"\")\n",
        "b=int(input(\"price of burger:        \"))\n",
        "print(\"\")\n",
        "c=int(input(\"price of cocacola:      \"))\n",
        "print(\"\")\n",
        "d=int(input(\"price of garlic bread:  \"))\n",
        "print(\"\")\n",
        "e=a+b+c+d\n",
        "print(\"\")\n",
        "print(\"Total amount payble is=\",e)\n",
        "print(\"\")\n",
        "f=(e/100*10)\n",
        "print(\"\")\n",
        "print(\"Discount Amount=\"           ,f)\n",
        "print(\"Payble amount=   \",e-f)\n"
      ],
      "metadata": {
        "colab": {
          "base_uri": "https://localhost:8080/"
        },
        "id": "qQgdoin66hKU",
        "outputId": "255d44a6-efbb-4285-d249-2fa8aa3f0c68"
      },
      "execution_count": null,
      "outputs": [
        {
          "output_type": "stream",
          "name": "stdout",
          "text": [
            "price of pizza:         500\n",
            "\n",
            "price of burger:        200\n",
            "\n",
            "price of cocacola:      300\n",
            "\n",
            "price of garlic bread:  400\n",
            "\n",
            "\n",
            "Total amount payble is= 1400\n",
            "\n",
            "\n",
            "Discount Amount= 140.0\n",
            "Payble amount=    1260.0\n"
          ]
        }
      ]
    },
    {
      "cell_type": "code",
      "source": [
        "print(       \"INVOICE\")\n",
        "print(\"\")\n",
        "a=int(input(\"Chicken wings   :                  \"))\n",
        "b=int(input(\"Peri-Peri Fries :                  \"))\n",
        "c=int(input(\"Zingy Parcell   :                  \"))\n",
        "print(\"\")\n",
        "d=a+b+c\n",
        "print(\"Sub Total=                              \",d)\n",
        "print(\"\")\n",
        "e=(a/100*10)\n",
        "print(\"Discount on Chicken wings   =           \",e)\n",
        "f=(b/100*15)\n",
        "print(\"Discount on Peri-Peri Fries =           \",f)\n",
        "g=(c/100*12)\n",
        "print(\"Discount on Zingy Parcell   =           \",g)\n",
        "print(\"\")\n",
        "print(\"Total Discount           =              \",e+f+g)\n",
        "h=int(input(\"Delivery Charges=                        \"))\n",
        "print(\"\")\n",
        "print(\"Total amount payble      =              \", d-e-f-g+h)\n",
        "\n",
        "\n"
      ],
      "metadata": {
        "colab": {
          "base_uri": "https://localhost:8080/"
        },
        "id": "8ubXaxUThLSK",
        "outputId": "38b55e5a-e852-41e5-d324-be1d0fdf2530"
      },
      "execution_count": null,
      "outputs": [
        {
          "output_type": "stream",
          "name": "stdout",
          "text": [
            "INVOICE\n",
            "\n",
            "Chicken wings   :                  500\n",
            "Peri-Peri Fries :                  400\n",
            "Zingy Parcell   :                  600\n",
            "\n",
            "Sub Total=                               1500\n",
            "\n",
            "Discount on Chicken wings   =            50.0\n",
            "Discount on Peri-Peri Fries =            60.0\n",
            "Discount on Zingy Parcell   =            72.0\n",
            "\n",
            "Total Discount           =               182.0\n",
            "Delivery Charges=                        80\n",
            "\n",
            "Total amount payble      =               1398.0\n"
          ]
        }
      ]
    },
    {
      "cell_type": "code",
      "source": [
        "principal=int(input(\"Principal Amount :                  \"))\n",
        "print(\"\")\n",
        "rate =int(input(\"Rate percent per month :            \"))\n",
        "print(\"\")\n",
        "time=int(input(\"Total Time in months :              \"))\n",
        "print(\"\")\n",
        "timeb=int(input(\"Time in days :                      \"))\n",
        "print(\"\")\n",
        "year=int(input(\"Which year=\"))\n",
        "print(\"\")\n",
        "days_month=input(\"Enter days of month=\")\n",
        "if days_month==\"jan\" or days_month==\"march\" or days_month==\"may\" or days_month==\"july\" or days_month==\"august\" or days_month==\"october\" or days_month==\"december\":\n",
        "  Days1=31\n",
        "elif days_month==\"april\" or days_month==\"june\" or days_month==\"september\" or days_month==\"november\":\n",
        "  Days1=30\n",
        "elif days_month==\"february\":\n",
        "  if year%4==0 and year%100!=0 or year%400==0:\n",
        "    Days1=29\n",
        "  else:\n",
        "    Days1=28\n",
        "si=principal*rate/100*time\n",
        "simple=principal*rate/100*timeb/Days1\n",
        "print(\"Total simple interest=\", si+simple)\n",
        "print(\"Total anount payble=\", principal+si+simple)\n",
        "\n",
        "\n"
      ],
      "metadata": {
        "colab": {
          "base_uri": "https://localhost:8080/"
        },
        "id": "92HXHg6CBZCp",
        "outputId": "fbe98b5e-4b75-4153-d32e-3dcebad79491"
      },
      "execution_count": 22,
      "outputs": [
        {
          "output_type": "stream",
          "name": "stdout",
          "text": [
            "Principal Amount :                  20000\n",
            "Rate percent per month :            4\n",
            "\n",
            "\n",
            "Total Time in months :              5\n",
            "Time in days :                      26\n",
            "\n",
            "\n",
            "Which year=2020\n",
            "\n",
            "Enter days of month=february\n",
            "Total simple interest= 4717.241379310345\n",
            "Total anount payble= 24717.241379310344\n"
          ]
        }
      ]
    },
    {
      "cell_type": "code",
      "source": [
        "# control flow\n",
        "Gender=(input(\"what is your gender=\"))\n",
        "age=int(input(\"Your age=\"))\n",
        "if Gender== \"male\" and age<=30:\n",
        "  print(\"hotel a , Block a\")\n",
        "else:\n",
        "  print(\"hotel a , block b\")\n",
        "print(\"\")\n",
        "Gender=(input(\"What is your gender=\"))\n",
        "age=int(input(\"Your age=\"))\n",
        "if Gender==\"Female\" and age<=35:\n",
        "  print(\"hotel b , Block c\")\n",
        "else:\n",
        "  print(\"hotel b , Block D\")"
      ],
      "metadata": {
        "colab": {
          "base_uri": "https://localhost:8080/"
        },
        "id": "M-Z7xH4nA6_g",
        "outputId": "9023302b-e7d9-4e3e-e055-466f6ff571ba"
      },
      "execution_count": null,
      "outputs": [
        {
          "output_type": "stream",
          "name": "stdout",
          "text": [
            "what is your gender=male\n",
            "Your age=25\n",
            "hotel a , Block a\n",
            "\n",
            "What is your gender=female\n",
            "Your age=52\n",
            "hotel b , Block D\n"
          ]
        }
      ]
    },
    {
      "cell_type": "code",
      "source": [
        "# control flow\n",
        "Gender=(input(\"what is your gender=\"))\n",
        "if Gender==\"male\":\n",
        " print(\"Hotel a\")\n",
        "elif Gender==\"Female\":\n",
        "  print(\"hotel b\")\n",
        "else:\n",
        "  print(\"invalid\")\n"
      ],
      "metadata": {
        "colab": {
          "base_uri": "https://localhost:8080/"
        },
        "id": "m1yDjtz5GnDZ",
        "outputId": "7fc6126f-a5f9-4738-cd9b-c1bb5b679363"
      },
      "execution_count": null,
      "outputs": [
        {
          "output_type": "stream",
          "name": "stdout",
          "text": [
            "what is your gender=male\n",
            "Hotel a\n"
          ]
        }
      ]
    },
    {
      "cell_type": "code",
      "source": [
        "a=int(input(\"Number a=\"))\n",
        "b=int(input(\"Number b=\"))\n",
        "c=a%b\n",
        "print(\"The remainder is=\", c)"
      ],
      "metadata": {
        "colab": {
          "base_uri": "https://localhost:8080/"
        },
        "id": "vf-krhkpJpo9",
        "outputId": "e7ee01a5-bdb2-4391-91df-68896826706e"
      },
      "execution_count": null,
      "outputs": [
        {
          "output_type": "stream",
          "name": "stdout",
          "text": [
            "Number a=24\n",
            "Number b=5\n",
            "The remainder is= 4\n"
          ]
        }
      ]
    },
    {
      "cell_type": "code",
      "source": [
        "number=int(input(\"The number is=\"))\n",
        "if number%7==0 or number%3==0:\n",
        "  print(\"Done\")\n",
        "else:\n",
        "  print(\"Not done\")\n"
      ],
      "metadata": {
        "colab": {
          "base_uri": "https://localhost:8080/"
        },
        "id": "tXsO9LQSOZSb",
        "outputId": "4c3ee532-8517-4df7-da40-a7fa7d729139"
      },
      "execution_count": null,
      "outputs": [
        {
          "output_type": "stream",
          "name": "stdout",
          "text": [
            "The number is=63\n",
            "Done\n"
          ]
        }
      ]
    },
    {
      "cell_type": "code",
      "source": [
        "id=input(\"Email. ID=\")\n",
        "password=input(\"Password=\")\n",
        "if id==\"ranapulkit927@gmail.com\" and password==\"pulkit123\":\n",
        "  print(\"Login successfull\")\n",
        "else:\n",
        "  print(\"Invalid or incorrect\")\n"
      ],
      "metadata": {
        "id": "LVsJTbANSOju",
        "colab": {
          "base_uri": "https://localhost:8080/"
        },
        "outputId": "00cb4525-626e-4819-fd94-8e2505f8c58a"
      },
      "execution_count": null,
      "outputs": [
        {
          "output_type": "stream",
          "name": "stdout",
          "text": [
            "Email. ID=ranapulkit927@gmail.com\n",
            "Password=pulkit123\n",
            "Login successfull\n"
          ]
        }
      ]
    },
    {
      "cell_type": "code",
      "source": [
        "one=int(input(\"Number a=\"))\n",
        "two=int(input(\"Number b=\"))\n",
        "if one>two:\n",
        "  print(\"one is greater than two\")\n",
        "elif one<two:\n",
        "  print(\"one is smaller than two\")\n",
        "else:\n",
        "  print(\"invalid\")"
      ],
      "metadata": {
        "colab": {
          "base_uri": "https://localhost:8080/"
        },
        "id": "8g0SESobOLjJ",
        "outputId": "b4d9d255-4963-475a-da32-de8a52f77c88"
      },
      "execution_count": 31,
      "outputs": [
        {
          "output_type": "stream",
          "name": "stdout",
          "text": [
            "Number a=10\n",
            "Number b=2\n",
            "one is greater than two\n"
          ]
        }
      ]
    },
    {
      "cell_type": "code",
      "source": [
        "a=int(input(\"Number a=\"))\n",
        "b=int(input(\"Number b=\"))\n",
        "c=int(input(\"Number c=\"))\n",
        "if a>b and a>c:\n",
        "  print(\"a is greater than b and c\")\n",
        "if b>a and b>c:\n",
        "  print(\"b is greater than a and c\")\n",
        "else:\n",
        "  print(\"c is greater than both a and b\")"
      ],
      "metadata": {
        "colab": {
          "base_uri": "https://localhost:8080/"
        },
        "id": "gCDl45Z6RUIV",
        "outputId": "8d012457-d3ce-4e7e-8f5d-b5a5582b0982"
      },
      "execution_count": null,
      "outputs": [
        {
          "output_type": "stream",
          "name": "stdout",
          "text": [
            "Number a=10\n",
            "Number b=30\n",
            "Number c=15\n",
            "b is greater than a and c\n"
          ]
        }
      ]
    },
    {
      "cell_type": "code",
      "source": [
        "year=int(input(\"Enter year=\"))\n",
        "if (year%4)==0 and (year%100)!=0 or (year%400)==0:\n",
        "  print(\"its a leap year\")\n",
        "else:\n",
        "  print(\"Non-leap year\")"
      ],
      "metadata": {
        "colab": {
          "base_uri": "https://localhost:8080/"
        },
        "id": "0g6v2qAzUDzI",
        "outputId": "fb5671df-93b8-42aa-a105-7cb05b77af4b"
      },
      "execution_count": null,
      "outputs": [
        {
          "output_type": "stream",
          "name": "stdout",
          "text": [
            "Enter year=2049\n",
            "Non-leap year\n"
          ]
        }
      ]
    },
    {
      "cell_type": "code",
      "source": [
        "holder=input(\"Card Holder Name=\")\n",
        "pin=int(input(\"Enter Pin=\"))\n",
        "if holder==\"Pulkit Rana\" and pin==9090:\n",
        "  print(10005000)\n",
        "else:\n",
        "  print(\"incorrect\")\n"
      ],
      "metadata": {
        "colab": {
          "base_uri": "https://localhost:8080/"
        },
        "id": "d4OULvTvr3Xg",
        "outputId": "7b9fe71f-f86c-445b-a371-d97ec43b6c9c"
      },
      "execution_count": 37,
      "outputs": [
        {
          "output_type": "stream",
          "name": "stdout",
          "text": [
            "Card Holder Name=Pulkit Rana\n",
            "Enter Pin=9090\n",
            "10005000\n"
          ]
        }
      ]
    }
  ]
}