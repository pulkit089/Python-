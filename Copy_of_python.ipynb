{
  "nbformat": 4,
  "nbformat_minor": 0,
  "metadata": {
    "colab": {
      "provenance": [],
      "authorship_tag": "ABX9TyP5gijVoOjdCJLqeLuSvtUZ",
      "include_colab_link": true
    },
    "kernelspec": {
      "name": "python3",
      "display_name": "Python 3"
    },
    "language_info": {
      "name": "python"
    }
  },
  "cells": [
    {
      "cell_type": "markdown",
      "metadata": {
        "id": "view-in-github",
        "colab_type": "text"
      },
      "source": [
        "<a href=\"https://colab.research.google.com/github/pulkit089/Python-/blob/main/Copy_of_python.ipynb\" target=\"_parent\"><img src=\"https://colab.research.google.com/assets/colab-badge.svg\" alt=\"Open In Colab\"/></a>"
      ]
    },
    {
      "cell_type": "code",
      "source": [
        "# work done by me\n",
        "''' My name is Pulkit Rana, ans m from Himachal Pradesh Distt kangra\n",
        "and himachal is also called The Land of God\n",
        "I have Many friends There\n",
        "i Love Python, Python is a Widely used\n",
        "Language and used in every kind of technology'''\n",
        "print(\"helloworld\")"
      ],
      "metadata": {
        "colab": {
          "base_uri": "https://localhost:8080/"
        },
        "id": "k95XcVLby3LF",
        "outputId": "c10733bf-9fdc-4c37-d616-8284989b1bce"
      },
      "execution_count": null,
      "outputs": [
        {
          "output_type": "stream",
          "name": "stdout",
          "text": [
            "helloworld\n"
          ]
        }
      ]
    },
    {
      "cell_type": "code",
      "source": [],
      "metadata": {
        "id": "EcK_X-Wx-NIz"
      },
      "execution_count": null,
      "outputs": []
    },
    {
      "cell_type": "code",
      "source": [],
      "metadata": {
        "id": "NRGsD51QzMQ3"
      },
      "execution_count": null,
      "outputs": []
    },
    {
      "cell_type": "code",
      "source": [
        "print(\"              RESTAURANT MENUE\")\n",
        "print(\"\")\n",
        "print(\"              STARTER\")\n",
        "print(\"\")\n",
        "print(\"Greek Salad=             $15\")\n",
        "print(\"Finger Chips=            $18\")\n",
        "print(\"Paneer Cruspy=           $10\")\n",
        "print(\"Paneer Chilly=           $15\")\n",
        "print(\"Chicken Wings=           $20\")\n",
        "print(\"Caesar Salad=            $17\")\n",
        "print()\n",
        "print(\"\")\n",
        "print(\"             MAIN COURSE\")\n",
        "print(\"\")\n",
        "print(\"Chicken Tandoori=        $20\")\n",
        "print(\"Chicken Tikka=           $25\")\n",
        "print(\"Grilled Meatballs=       $30\")\n",
        "print(\"Lamb Steak=              $26\")\n",
        "print(\"Asian Chicken=           $30\")\n",
        "print(\"Lemon Chicken=           $28\")\n",
        "print(\"Malai Kofta=             $25\")\n",
        "print(\"\")\n",
        "print(\"            APPETIZERS\")\n",
        "print(\"\")\n",
        "print(\"Garlic Flatbread=        $30\")\n",
        "print(\"Tuna Tartaae=            $25\")\n",
        "print(\"Garlic Bread=            $32\")\n",
        "print(\"Cheese Fries=            $33\")\n",
        "print(\"Chicken Fingures=        $35\")\n",
        "print(\"Hotdog Sandwich=         $40\")\n",
        "print(\"Fish and Chips=          $45\")\n",
        "print(\"\")\n",
        "print(\"            DRINKS\")\n",
        "print(\"\")\n",
        "print(\"Coca-Cola Light=         $10\")\n",
        "print(\"Beer=                    $12\")\n",
        "print(\"Arabica Cafe=            $15\")\n",
        "print(\"Fresh Lemonade=          $20\")\n",
        "print(\"Cold Coffee=             $18\")\n",
        "print(\"\")\n",
        "print(\"            SALAD AND SOUPS\")\n",
        "print(\"\")\n",
        "print(\"Macaroni Soup=           $15\")\n",
        "print(\"Tex mex chilli=          $20\")\n",
        "print(\"Calamari=                $16\")\n",
        "print(\"Beef Taco=               $15\")\n",
        "print(\"Wonton Soup=             $20\")"
      ],
      "metadata": {
        "colab": {
          "base_uri": "https://localhost:8080/"
        },
        "id": "EsA9jZ1Elr_Y",
        "outputId": "0f2e67bc-ed0e-4246-8f7d-7c20b8f05178"
      },
      "execution_count": null,
      "outputs": [
        {
          "output_type": "stream",
          "name": "stdout",
          "text": [
            "              RESTAURANT MENUE\n",
            "\n",
            "              STARTER\n",
            "\n",
            "Greek Salad=             $15\n",
            "Finger Chips=            $18\n",
            "Paneer Cruspy=           $10\n",
            "Paneer Chilly=           $15\n",
            "Chicken Wings=           $20\n",
            "Caesar Salad=            $17\n",
            "\n",
            "             MAIN COURSE\n",
            "\n",
            "Chicken Tandoori=        $20\n",
            "Chicken Tikka=           $25\n",
            "Grilled Meatballs=       $30\n",
            "Lamb Steak=              $26\n",
            "Asian Chicken=           $30\n",
            "Lemon Chicken=           $28\n",
            "Malai Kofta=             $25\n",
            "\n",
            "            APPETIZERS\n",
            "\n",
            "Garlic Flatbread=        $30\n",
            "Tuna Tartaae=            $25\n",
            "Garlic Bread=            $32\n",
            "Cheese Fries=            $33\n",
            "Chicken Fingures=        $35\n",
            "Hotdog Sandwich=         $40\n",
            "Fish and Chips=          $45\n",
            "\n",
            "            DRINKS\n",
            "\n",
            "Coca-Cola Light=         $10\n",
            "Beer=                    $12\n",
            "Arabica Cafe=            $15\n",
            "Fresh Lemonade=          $20\n",
            "Cold Coffee=             $18\n",
            "\n",
            "            SALAD AND SOUPS\n",
            "\n",
            "Macaroni Soup=           $15\n",
            "Tex mex chilli=          $20\n",
            "Calamari=                $16\n",
            "Beef Taco=               $15\n",
            "Wonton Soup=             $20\n"
          ]
        }
      ]
    },
    {
      "cell_type": "code",
      "source": [
        "\n",
        "print(\"My name is Pulkit Rana\")\n",
        "print(\"My Age is 23\")"
      ],
      "metadata": {
        "id": "Sh7sAFON0l7m",
        "outputId": "f0db73b9-0338-4426-daa4-3a5995f5239e",
        "colab": {
          "base_uri": "https://localhost:8080/"
        }
      },
      "execution_count": null,
      "outputs": [
        {
          "output_type": "stream",
          "name": "stdout",
          "text": [
            "My name is Pulkit Rana\n",
            "My Age is 23\n"
          ]
        }
      ]
    },
    {
      "cell_type": "code",
      "source": [
        "my_name= \"Pulkit RRana\"\n",
        "myage=\"23\"\n",
        "phoneno=\"8091700386\"\n",
        "print(\"                                   PERSONAL DETAILS\")\n",
        "print(\"Name\", my_name)\n",
        "print(\"Age\" , myage)\n",
        "print(\"Time of birth= 6:12 PM\")\n",
        "print(\"Place of birth= Dehra Gopipur\")\n",
        "print(\"Email=023pulkitrana@gmail.com\")\n",
        "print(\"Mobuile No\" , phoneno)\n",
        "\n",
        "\n",
        "print(\"                                  EDUCATION QUALIFICATION      \")\n",
        "print(\"school= GAV Public School Kangra\")\n",
        "print(\"State= Himachal Pradesh\")\n",
        "print(\"College= DAV College Kangra\")\n",
        "print(\"Stream in school= Commerce\")\n",
        "print(\"Degree= Bachelors in commerce\")\n",
        "print(\"Course= Data Scientiest\")\n",
        "\n",
        "print(\"                                  FAMILY DETAILS     \")\n",
        "print(\"Mother's Name= Babita Thakur\")\n",
        "print(\"Father's Name= Shubhkaran Thakur\")\n",
        "print(\"siblings=N/A\")\n",
        "print(\"Address= VPO Jarot Teh Jawali Distt. Kangra Himachal Pradesh\")\n",
        "print(\"\")\n",
        "\n",
        "\n",
        "\n",
        "\n",
        "\n"
      ],
      "metadata": {
        "colab": {
          "base_uri": "https://localhost:8080/"
        },
        "id": "8rlSuMvO7yeA",
        "outputId": "ff387cf0-df23-40af-abe3-45c6bf98bf53"
      },
      "execution_count": null,
      "outputs": [
        {
          "output_type": "stream",
          "name": "stdout",
          "text": [
            "                                   PERSONAL DETAILS\n",
            "Name Pulkit RRana\n",
            "Age 23\n",
            "Time of birth= 6:12 PM\n",
            "Place of birth= Dehra Gopipur\n",
            "Email=023pulkitrana@gmail.com\n",
            "Mobuile No 8091700386\n",
            "                                  EDUCATION QUALIFICATION      \n",
            "school= GAV Public School Kangra\n",
            "State= Himachal Pradesh\n",
            "College= DAV College Kangra\n",
            "Stream in school= Commerce\n",
            "Degree= Bachelors in commerce\n",
            "Course= Data Scientiest\n",
            "                                  FAMILY DETAILS     \n",
            "Mother's Name= Babita Thakur\n",
            "Father's Name= Shubhkaran Thakur\n",
            "siblings=N/A\n",
            "Address= VPO Jarot Teh Jawali Distt. Kangra Himachal Pradesh\n",
            "\n"
          ]
        }
      ]
    },
    {
      "cell_type": "code",
      "source": [
        "a=10\n",
        "print(\"I am trying to put the  of a\", a)\n",
        "b=5.2\n",
        "print(\"Python is difficult\" , b)\n",
        "c=\"pulkit rana \"\n",
        "print(\"The value of C is\" , c)\n"
      ],
      "metadata": {
        "colab": {
          "base_uri": "https://localhost:8080/"
        },
        "id": "LHkKzxD3EJPQ",
        "outputId": "98005a58-7a7c-43b1-e1f1-b209564f5497"
      },
      "execution_count": null,
      "outputs": [
        {
          "output_type": "stream",
          "name": "stdout",
          "text": [
            "I am trying to put the  of a 10\n",
            "Python is difficult 5.2\n",
            "The value of C is pulkit rana \n"
          ]
        }
      ]
    },
    {
      "cell_type": "code",
      "source": [
        "# A short story about Myself\n",
        "print(\"\")\n",
        "name=  \"Pulkit Rana 23\"\n",
        "city=  \"Chandigarh Sector 15-A\"\n",
        "age=    23\n",
        "food=  \"Mutton\"\n",
        "animal=\"tiger\"\n",
        "place= \"Kangra Himachal Pradesh\"\n",
        "dream= \"Data scientiest.\"\n",
        "hobby= \"Play Cricket.\"\n",
        "Language=\"Python\"\n",
        "print(\"\")\n",
        "print(\"Let me tell you a story in brief about myself,\")\n",
        "print(\"My name is\" , name , \"and i am \" , age ,\"years old, and my favourite food which i always love to eat is\", food)\n",
        "print(\"i live in\" , city)\n",
        "print(\"But basically I m from\" , place,\"and the favourite part of my life is to watch and\",hobby)\n",
        "print(\"Everyday, I spend a few hours learning new tgings in\", Language)\n",
        "print(\"and my ultimate goal is to become a successfull\",dream)\n",
        "print(\"\")\n",
        "print(\"\")\n",
        "print(\"Thank you for reading a story about me.\")\n"
      ],
      "metadata": {
        "id": "Y-gOX2UaamJf",
        "outputId": "ce9ca3f3-c7a1-4bf8-956e-7efb9fc35fb6",
        "colab": {
          "base_uri": "https://localhost:8080/"
        }
      },
      "execution_count": null,
      "outputs": [
        {
          "output_type": "stream",
          "name": "stdout",
          "text": [
            "\n",
            "\n",
            "Let me tell you a story in brief about myself,\n",
            "My name is Pulkit Rana 23 and i am  23 years old, and my favourite food which i always love to eat is Mutton\n",
            "i live in Chandigarh Sector 15-A\n",
            "But basically I m from Kangra Himachal Pradesh and the favourite part of my life is to watch and Play Cricket.\n",
            "Everyday, I spend a few hours learning new tgings in Python\n",
            "and my ultimate goal is to become a successfull Data scientiest.\n",
            "\n",
            "\n",
            "Thank you for reading a story about me.\n"
          ]
        }
      ]
    },
    {
      "cell_type": "code",
      "source": [
        "a=int(input(\"price of pizza:         \"))\n",
        "print(\"\")\n",
        "b=int(input(\"price of burger:        \"))\n",
        "print(\"\")\n",
        "c=int(input(\"price of cocacola:      \"))\n",
        "print(\"\")\n",
        "d=int(input(\"price of garlic bread:  \"))\n",
        "print(\"\")\n",
        "e=a+b+c+d\n",
        "print(\"\")\n",
        "print(\"Total amount payble is=\",e)\n",
        "print(\"\")\n",
        "f=(e/100*10)\n",
        "print(\"\")\n",
        "print(\"Discount Amount=\"           ,f)\n",
        "print(\"Payble amount=   \",e-f)\n"
      ],
      "metadata": {
        "colab": {
          "base_uri": "https://localhost:8080/"
        },
        "id": "qQgdoin66hKU",
        "outputId": "255d44a6-efbb-4285-d249-2fa8aa3f0c68"
      },
      "execution_count": null,
      "outputs": [
        {
          "output_type": "stream",
          "name": "stdout",
          "text": [
            "price of pizza:         500\n",
            "\n",
            "price of burger:        200\n",
            "\n",
            "price of cocacola:      300\n",
            "\n",
            "price of garlic bread:  400\n",
            "\n",
            "\n",
            "Total amount payble is= 1400\n",
            "\n",
            "\n",
            "Discount Amount= 140.0\n",
            "Payble amount=    1260.0\n"
          ]
        }
      ]
    },
    {
      "cell_type": "code",
      "source": [
        "print(       \"INVOICE\")\n",
        "print(\"\")\n",
        "a=int(input(\"Chicken wings   :                  \"))\n",
        "b=int(input(\"Peri-Peri Fries :                  \"))\n",
        "c=int(input(\"Zingy Parcell   :                  \"))\n",
        "print(\"\")\n",
        "d=a+b+c\n",
        "print(\"Sub Total=                              \",d)\n",
        "print(\"\")\n",
        "e=(a/100*10)\n",
        "print(\"Discount on Chicken wings   =           \",e)\n",
        "f=(b/100*15)\n",
        "print(\"Discount on Peri-Peri Fries =           \",f)\n",
        "g=(c/100*12)\n",
        "print(\"Discount on Zingy Parcell   =           \",g)\n",
        "print(\"\")\n",
        "print(\"Total Discount           =              \",e+f+g)\n",
        "h=int(input(\"Delivery Charges=                        \"))\n",
        "print(\"\")\n",
        "print(\"Total amount payble      =              \", d-e-f-g+h)\n",
        "\n",
        "\n"
      ],
      "metadata": {
        "colab": {
          "base_uri": "https://localhost:8080/"
        },
        "id": "8ubXaxUThLSK",
        "outputId": "38b55e5a-e852-41e5-d324-be1d0fdf2530"
      },
      "execution_count": null,
      "outputs": [
        {
          "output_type": "stream",
          "name": "stdout",
          "text": [
            "INVOICE\n",
            "\n",
            "Chicken wings   :                  500\n",
            "Peri-Peri Fries :                  400\n",
            "Zingy Parcell   :                  600\n",
            "\n",
            "Sub Total=                               1500\n",
            "\n",
            "Discount on Chicken wings   =            50.0\n",
            "Discount on Peri-Peri Fries =            60.0\n",
            "Discount on Zingy Parcell   =            72.0\n",
            "\n",
            "Total Discount           =               182.0\n",
            "Delivery Charges=                        80\n",
            "\n",
            "Total amount payble      =               1398.0\n"
          ]
        }
      ]
    },
    {
      "cell_type": "code",
      "source": [
        "principal=int(input(\"Principal Amount :                  \"))\n",
        "print(\"\")\n",
        "rate =int(input(\"Rate percent per month :            \"))\n",
        "print(\"\")\n",
        "time=int(input(\"Total Time in months :              \"))\n",
        "print(\"\")\n",
        "timeb=int(input(\"Time in days :                      \"))\n",
        "print(\"\")\n",
        "year=int(input(\"Which year=\"))\n",
        "print(\"\")\n",
        "days_month=input(\"Enter days of month=\")\n",
        "if days_month==\"jan\" or days_month==\"march\" or days_month==\"may\" or days_month==\"july\" or days_month==\"august\" or days_month==\"october\" or days_month==\"december\":\n",
        "  Days1=31\n",
        "elif days_month==\"april\" or days_month==\"june\" or days_month==\"september\" or days_month==\"november\":\n",
        "  Days1=30\n",
        "elif days_month==\"february\":\n",
        "  if year%4==0 and year%100!=0 or year%400==0:\n",
        "    Days1=29\n",
        "  else:\n",
        "    Days1=28\n",
        "si=principal*rate/100*time\n",
        "simple=principal*rate/100*timeb/Days1\n",
        "print(\"\")\n",
        "print(\"Total simple interest=\", si+simple)\n",
        "print(\"\")\n",
        "print(\"Total anount payble=\", principal+si+simple)\n",
        "\n",
        "\n"
      ],
      "metadata": {
        "colab": {
          "base_uri": "https://localhost:8080/"
        },
        "id": "92HXHg6CBZCp",
        "outputId": "f5aeafd2-84ab-41fe-bdbe-6e0f5f166529"
      },
      "execution_count": null,
      "outputs": [
        {
          "output_type": "stream",
          "name": "stdout",
          "text": [
            "Principal Amount :                  25000\n",
            "\n",
            "Rate percent per month :            5\n",
            "\n",
            "Total Time in months :              6\n",
            "\n",
            "Time in days :                      26\n",
            "\n",
            "Which year=2026\n",
            "\n",
            "Enter days of month=august\n",
            "\n",
            "Total simple interest= 8548.387096774193\n",
            "\n",
            "Total anount payble= 33548.3870967742\n"
          ]
        }
      ]
    },
    {
      "cell_type": "code",
      "source": [
        "# control flow\n",
        "Gender=(input(\"what is your gender=\"))\n",
        "age=int(input(\"Your age=\"))\n",
        "if Gender== \"male\" and age<=30:\n",
        "  print(\"hotel a , Block a\")\n",
        "else:\n",
        "  print(\"hotel a , block b\")\n",
        "print(\"\")\n",
        "Gender=(input(\"What is your gender=\"))\n",
        "age=int(input(\"Your age=\"))\n",
        "if Gender==\"Female\" and age<=35:\n",
        "  print(\"hotel b , Block c\")\n",
        "else:\n",
        "  print(\"hotel b , Block D\")"
      ],
      "metadata": {
        "colab": {
          "base_uri": "https://localhost:8080/"
        },
        "id": "M-Z7xH4nA6_g",
        "outputId": "9023302b-e7d9-4e3e-e055-466f6ff571ba"
      },
      "execution_count": null,
      "outputs": [
        {
          "output_type": "stream",
          "name": "stdout",
          "text": [
            "what is your gender=male\n",
            "Your age=25\n",
            "hotel a , Block a\n",
            "\n",
            "What is your gender=female\n",
            "Your age=52\n",
            "hotel b , Block D\n"
          ]
        }
      ]
    },
    {
      "cell_type": "code",
      "source": [
        "# control flow\n",
        "Gender=(input(\"what is your gender=\"))\n",
        "if Gender==\"male\":\n",
        " print(\"Hotel a\")\n",
        "elif Gender==\"Female\":\n",
        "  print(\"hotel b\")\n",
        "else:\n",
        "  print(\"invalid\")\n"
      ],
      "metadata": {
        "colab": {
          "base_uri": "https://localhost:8080/"
        },
        "id": "m1yDjtz5GnDZ",
        "outputId": "7fc6126f-a5f9-4738-cd9b-c1bb5b679363"
      },
      "execution_count": null,
      "outputs": [
        {
          "output_type": "stream",
          "name": "stdout",
          "text": [
            "what is your gender=male\n",
            "Hotel a\n"
          ]
        }
      ]
    },
    {
      "cell_type": "code",
      "source": [
        "a=int(input(\"Number a=\"))\n",
        "b=int(input(\"Number b=\"))\n",
        "c=a%b\n",
        "print(\"The remainder is=\", c)"
      ],
      "metadata": {
        "colab": {
          "base_uri": "https://localhost:8080/"
        },
        "id": "vf-krhkpJpo9",
        "outputId": "e7ee01a5-bdb2-4391-91df-68896826706e"
      },
      "execution_count": null,
      "outputs": [
        {
          "output_type": "stream",
          "name": "stdout",
          "text": [
            "Number a=24\n",
            "Number b=5\n",
            "The remainder is= 4\n"
          ]
        }
      ]
    },
    {
      "cell_type": "code",
      "source": [
        "number=int(input(\"The number is=\"))\n",
        "if number%7==0 or number%3==0:\n",
        "  print(\"Done\")\n",
        "else:\n",
        "  print(\"Not done\")\n"
      ],
      "metadata": {
        "colab": {
          "base_uri": "https://localhost:8080/"
        },
        "id": "tXsO9LQSOZSb",
        "outputId": "4c3ee532-8517-4df7-da40-a7fa7d729139"
      },
      "execution_count": null,
      "outputs": [
        {
          "output_type": "stream",
          "name": "stdout",
          "text": [
            "The number is=63\n",
            "Done\n"
          ]
        }
      ]
    },
    {
      "cell_type": "code",
      "source": [
        "id=input(\"Email. ID=\")\n",
        "password=input(\"Password=\")\n",
        "if id==\"ranapulkit927@gmail.com\" and password==\"pulkit123\":\n",
        "  print(\"Login successfull\")\n",
        "else:\n",
        "  print(\"Invalid or incorrect\")\n"
      ],
      "metadata": {
        "id": "LVsJTbANSOju",
        "colab": {
          "base_uri": "https://localhost:8080/"
        },
        "outputId": "00cb4525-626e-4819-fd94-8e2505f8c58a"
      },
      "execution_count": null,
      "outputs": [
        {
          "output_type": "stream",
          "name": "stdout",
          "text": [
            "Email. ID=ranapulkit927@gmail.com\n",
            "Password=pulkit123\n",
            "Login successfull\n"
          ]
        }
      ]
    },
    {
      "cell_type": "code",
      "source": [
        "one=int(input(\"Number a=\"))\n",
        "two=int(input(\"Number b=\"))\n",
        "if one>two:\n",
        "  print(\"one is greater than two\")\n",
        "elif one<two:\n",
        "  print(\"one is smaller than two\")\n",
        "else:\n",
        "  print(\"invalid\")"
      ],
      "metadata": {
        "colab": {
          "base_uri": "https://localhost:8080/"
        },
        "id": "8g0SESobOLjJ",
        "outputId": "b4d9d255-4963-475a-da32-de8a52f77c88"
      },
      "execution_count": null,
      "outputs": [
        {
          "output_type": "stream",
          "name": "stdout",
          "text": [
            "Number a=10\n",
            "Number b=2\n",
            "one is greater than two\n"
          ]
        }
      ]
    },
    {
      "cell_type": "code",
      "source": [
        "a=int(input(\"Number a=\"))\n",
        "b=int(input(\"Number b=\"))\n",
        "c=int(input(\"Number c=\"))\n",
        "if a>b and a>c:\n",
        "  print(\"a is greater than b and c\")\n",
        "if b>a and b>c:\n",
        "  print(\"b is greater than a and c\")\n",
        "else:\n",
        "  print(\"c is greater than both a and b\")"
      ],
      "metadata": {
        "colab": {
          "base_uri": "https://localhost:8080/"
        },
        "id": "gCDl45Z6RUIV",
        "outputId": "8d012457-d3ce-4e7e-8f5d-b5a5582b0982"
      },
      "execution_count": null,
      "outputs": [
        {
          "output_type": "stream",
          "name": "stdout",
          "text": [
            "Number a=10\n",
            "Number b=30\n",
            "Number c=15\n",
            "b is greater than a and c\n"
          ]
        }
      ]
    },
    {
      "cell_type": "code",
      "source": [
        "year=int(input(\"Enter year=\"))\n",
        "if (year%4)==0 and (year%100)!=0 or (year%400)==0:\n",
        "  print(\"its a leap year\")\n",
        "else:\n",
        "  print(\"Non-leap year\")"
      ],
      "metadata": {
        "colab": {
          "base_uri": "https://localhost:8080/"
        },
        "id": "0g6v2qAzUDzI",
        "outputId": "fb5671df-93b8-42aa-a105-7cb05b77af4b"
      },
      "execution_count": null,
      "outputs": [
        {
          "output_type": "stream",
          "name": "stdout",
          "text": [
            "Enter year=2049\n",
            "Non-leap year\n"
          ]
        }
      ]
    },
    {
      "cell_type": "code",
      "source": [
        "holder=input(\"Card Holder Name=\")\n",
        "pin=int(input(\"Enter Pin=\"))\n",
        "if holder==\"Pulkit Rana\" and pin==9090:\n",
        "  print(\"Amount=10005000\")\n",
        "else:\n",
        "  print(\"incorrect\")\n"
      ],
      "metadata": {
        "colab": {
          "base_uri": "https://localhost:8080/"
        },
        "id": "d4OULvTvr3Xg",
        "outputId": "6bd2b2ab-5a92-4af0-e40d-8404282cb3fe"
      },
      "execution_count": null,
      "outputs": [
        {
          "output_type": "stream",
          "name": "stdout",
          "text": [
            "Card Holder Name=Pulkit Rana\n",
            "Enter Pin=9090\n",
            "Amount=10005000\n"
          ]
        }
      ]
    },
    {
      "cell_type": "code",
      "source": [
        "first=(input(\"Enter First Product=\"))\n",
        "print(\"\")\n",
        "second=(input(\"Enter Second Product=\"))\n",
        "print(\"\")\n",
        "third=int(input(\"Enter Price Of first Product=\"))\n",
        "print(\"\")\n",
        "fourth=int(input(\"Enter Price of second Product=\"))\n",
        "print(\"\")\n",
        "dist1=third*10/100\n",
        "dist2=fourth*20/100\n",
        "price_after_discount=third-dist1\n",
        "price_after_discountt=fourth-dist2\n",
        "print(\"Price after Discount=\", price_after_discount)\n",
        "print(\"\")\n",
        "print(\"Price after Discountt\", price_after_discountt)\n",
        "total_price=price_after_discount+price_after_discountt\n",
        "print(\"\")\n",
        "print(\"Total Amount=\", total_price)\n",
        "one=(input(\"Enter Coupon code=\"))\n",
        "if one==\"Pulkit\":\n",
        "  discount=total_price*10/100\n",
        "  total_payble_amount=total_price-discount\n",
        "  print(\"You Get instatnt Discount of= 10%\")\n",
        "  print(\"New payble amount=\", total_price-discount)\n",
        "else:\n",
        "  print(\"New payble amount=\", total_price)\n",
        "address=(input(\"Address=\"))\n",
        "mobile=int(input(\"Enter Mobile Number=\"))\n",
        "method=(input(\"Your payment Method=\"))\n",
        "otp=int(input(\"Enter OTP=\"))\n",
        "if otp==4565:\n",
        "  print(\"Order Placed\")\n",
        "else:\n",
        "  print(\"Invalid OTP\")\n",
        "\n",
        "\n"
      ],
      "metadata": {
        "colab": {
          "base_uri": "https://localhost:8080/"
        },
        "id": "EmCc1K2DuIUD",
        "outputId": "9ecd1ee2-58a1-4ab9-d299-3f500488b692"
      },
      "execution_count": null,
      "outputs": [
        {
          "output_type": "stream",
          "name": "stdout",
          "text": [
            "Enter First Product=KTM Duke\n",
            "Enter Second Product=Laptop\n",
            "Enter Price Of first Product=300000\n",
            "Enter Price of second Product=100000\n",
            "Price after Discount= 270000.0\n",
            "Price after Discountt 80000.0\n",
            "Total Amount= 350000.0\n",
            "Enter Coupon code=Pulkit\n",
            "You Get instatnt Discount of 10%\n",
            "New payble amount= 315000.0\n",
            "Address=Chandigarh Sector 15-A\n",
            "Enter Mobile Number=8091700386\n",
            "Your payment Method=Cash On Delivery\n",
            "Enter OTP=4565\n",
            "Order Placed\n"
          ]
        }
      ]
    },
    {
      "cell_type": "code",
      "source": [
        "for i in range(1,\n",
        " print(i)\n"
      ],
      "metadata": {
        "colab": {
          "base_uri": "https://localhost:8080/"
        },
        "id": "xYKQ1HAF8uql",
        "outputId": "5599f7b7-aafa-4656-dbd0-ff9c2e9df25a"
      },
      "execution_count": null,
      "outputs": [
        {
          "output_type": "stream",
          "name": "stdout",
          "text": [
            "1\n",
            "2\n",
            "3\n",
            "4\n",
            "5\n",
            "6\n",
            "7\n",
            "8\n",
            "9\n",
            "10\n",
            "11\n",
            "12\n",
            "13\n",
            "14\n",
            "15\n"
          ]
        }
      ]
    },
    {
      "cell_type": "code",
      "source": [
        "for i in range(1,18,2):\n",
        "  print(i)\n"
      ],
      "metadata": {
        "colab": {
          "base_uri": "https://localhost:8080/"
        },
        "id": "Ed87fu37-3x8",
        "outputId": "b30f5971-8e40-4297-d83c-e3c599a8ac11"
      },
      "execution_count": null,
      "outputs": [
        {
          "output_type": "stream",
          "name": "stdout",
          "text": [
            "1\n",
            "3\n",
            "5\n",
            "7\n",
            "9\n",
            "11\n",
            "13\n",
            "15\n",
            "17\n"
          ]
        }
      ]
    },
    {
      "cell_type": "code",
      "source": [
        "for i in range(2,100,2):\n",
        "  print(i)"
      ],
      "metadata": {
        "colab": {
          "base_uri": "https://localhost:8080/"
        },
        "id": "oQ2lPgGg_MxN",
        "outputId": "3d7a92cd-78b4-4680-e029-4ba075d1163b"
      },
      "execution_count": null,
      "outputs": [
        {
          "output_type": "stream",
          "name": "stdout",
          "text": [
            "2\n",
            "4\n",
            "6\n",
            "8\n",
            "10\n",
            "12\n",
            "14\n",
            "16\n",
            "18\n",
            "20\n",
            "22\n",
            "24\n",
            "26\n",
            "28\n",
            "30\n",
            "32\n",
            "34\n",
            "36\n",
            "38\n",
            "40\n",
            "42\n",
            "44\n",
            "46\n",
            "48\n",
            "50\n",
            "52\n",
            "54\n",
            "56\n",
            "58\n",
            "60\n",
            "62\n",
            "64\n",
            "66\n",
            "68\n",
            "70\n",
            "72\n",
            "74\n",
            "76\n",
            "78\n",
            "80\n",
            "82\n",
            "84\n",
            "86\n",
            "88\n",
            "90\n",
            "92\n",
            "94\n",
            "96\n",
            "98\n"
          ]
        }
      ]
    },
    {
      "cell_type": "code",
      "source": [
        "sum=0\n",
        "for i in range(1,1001):\n",
        "   sum=sum+i\n",
        "print(sum)"
      ],
      "metadata": {
        "colab": {
          "base_uri": "https://localhost:8080/"
        },
        "id": "fkv8-YVZ__Q6",
        "outputId": "da244d63-647b-445f-81f2-cbb4327021f6"
      },
      "execution_count": null,
      "outputs": [
        {
          "output_type": "stream",
          "name": "stdout",
          "text": [
            "500500\n"
          ]
        }
      ]
    },
    {
      "cell_type": "code",
      "source": [
        "sum=1\n",
        "for i in range(1,11):\n",
        "  sum=sum*i\n",
        "print(sum)"
      ],
      "metadata": {
        "colab": {
          "base_uri": "https://localhost:8080/"
        },
        "id": "74jxr63ZBq27",
        "outputId": "1c360e29-d65d-4747-9485-0b4049bc2595"
      },
      "execution_count": null,
      "outputs": [
        {
          "output_type": "stream",
          "name": "stdout",
          "text": [
            "3628800\n"
          ]
        }
      ]
    },
    {
      "cell_type": "code",
      "source": [
        "sum=1\n",
        "for pulkit in range(1,100):\n",
        "  sum=sum*pulkit\n",
        "print(sum)"
      ],
      "metadata": {
        "colab": {
          "base_uri": "https://localhost:8080/"
        },
        "id": "LnkyXF740E9Y",
        "outputId": "e0a2e472-b2e9-44af-bfa6-3e713684e0af"
      },
      "execution_count": null,
      "outputs": [
        {
          "output_type": "stream",
          "name": "stdout",
          "text": [
            "933262154439441526816992388562667004907159682643816214685929638952175999932299156089414639761565182862536979208272237582511852109168640000000000000000000000\n"
          ]
        }
      ]
    },
    {
      "cell_type": "code",
      "source": [
        "for i in range(2,10):\n",
        "  print(i)\n"
      ],
      "metadata": {
        "colab": {
          "base_uri": "https://localhost:8080/"
        },
        "id": "kjatdHda-PCN",
        "outputId": "f9e61051-7f5a-4c70-b46a-291add5e7278"
      },
      "execution_count": null,
      "outputs": [
        {
          "output_type": "stream",
          "name": "stdout",
          "text": [
            "2\n",
            "3\n",
            "4\n",
            "5\n",
            "6\n",
            "7\n",
            "8\n",
            "9\n"
          ]
        }
      ]
    },
    {
      "cell_type": "code",
      "source": [
        "sum=0\n",
        "for i in range(2,10):\n",
        "  sum=sum+i\n",
        "print(sum)"
      ],
      "metadata": {
        "colab": {
          "base_uri": "https://localhost:8080/"
        },
        "id": "rxx-n6YX_A0I",
        "outputId": "c29bc96d-254c-4337-e95d-bb3774f7e386"
      },
      "execution_count": null,
      "outputs": [
        {
          "output_type": "stream",
          "name": "stdout",
          "text": [
            "44\n"
          ]
        }
      ]
    },
    {
      "cell_type": "code",
      "source": [
        "# calculations in Power\n",
        "sum=0\n",
        "for pulkit in range(2**2,10**2):\n",
        "  sum=sum+pulkit\n",
        "print(sum)"
      ],
      "metadata": {
        "colab": {
          "base_uri": "https://localhost:8080/"
        },
        "id": "R_QALZ7bAz1j",
        "outputId": "5c3dc34b-2cc3-4b4d-98f9-5bf44078a33f"
      },
      "execution_count": null,
      "outputs": [
        {
          "output_type": "stream",
          "name": "stdout",
          "text": [
            "4944\n"
          ]
        }
      ]
    },
    {
      "cell_type": "code",
      "source": [
        "sum=1\n",
        "for pulkit in range(1,21):\n",
        "  sum=sum*pulkit\n",
        "print(sum)"
      ],
      "metadata": {
        "colab": {
          "base_uri": "https://localhost:8080/"
        },
        "id": "v3PU2DrcB4wP",
        "outputId": "1ede0602-2d03-49b6-c5c0-b6f341317327"
      },
      "execution_count": null,
      "outputs": [
        {
          "output_type": "stream",
          "name": "stdout",
          "text": [
            "2432902008176640000\n"
          ]
        }
      ]
    },
    {
      "cell_type": "code",
      "source": [
        "sum=1\n",
        "for pulkit in range(1,6):\n",
        "  sum=sum*pulkit\n",
        "print(sum)"
      ],
      "metadata": {
        "colab": {
          "base_uri": "https://localhost:8080/"
        },
        "id": "xuDWK88gCuNj",
        "outputId": "25074ade-e8c2-4ae9-8e8f-bd8a0d194e9a"
      },
      "execution_count": null,
      "outputs": [
        {
          "output_type": "stream",
          "name": "stdout",
          "text": [
            "120\n"
          ]
        }
      ]
    },
    {
      "cell_type": "code",
      "source": [
        "sum=1\n",
        "for pulkit in range(1,9):\n",
        "  sum=sum*pulkit\n",
        "print(sum)"
      ],
      "metadata": {
        "colab": {
          "base_uri": "https://localhost:8080/"
        },
        "id": "43XpNSxfD7sU",
        "outputId": "eb73e8f2-3873-4f46-a093-295228f49e91"
      },
      "execution_count": null,
      "outputs": [
        {
          "output_type": "stream",
          "name": "stdout",
          "text": [
            "40320\n"
          ]
        }
      ]
    },
    {
      "cell_type": "code",
      "source": [
        "sum=1\n",
        "for pulkit in range(9,0,-1):\n",
        "  sum=sum*pulkit\n",
        "print(sum)\n"
      ],
      "metadata": {
        "colab": {
          "base_uri": "https://localhost:8080/"
        },
        "id": "X2M6_7aQEOW5",
        "outputId": "80c59c3d-4ef2-416f-e484-77fbf0372791"
      },
      "execution_count": null,
      "outputs": [
        {
          "output_type": "stream",
          "name": "stdout",
          "text": [
            "362880\n"
          ]
        }
      ]
    },
    {
      "cell_type": "code",
      "source": [
        "p=1\n",
        "while p<10:\n",
        "  print(p)\n",
        "  p=p+1"
      ],
      "metadata": {
        "colab": {
          "base_uri": "https://localhost:8080/"
        },
        "id": "3_1SNrBLKTT6",
        "outputId": "c3f0b121-4318-403a-92fc-970a83bc131d"
      },
      "execution_count": null,
      "outputs": [
        {
          "output_type": "stream",
          "name": "stdout",
          "text": [
            "1\n",
            "2\n",
            "3\n",
            "4\n",
            "5\n",
            "6\n",
            "7\n",
            "8\n",
            "9\n"
          ]
        }
      ]
    },
    {
      "cell_type": "code",
      "source": [
        "sum=0\n",
        "n=5324\n",
        "while n>0:\n",
        "  digit=n%10\n",
        "  sum = sum+digit\n",
        "  n=n//10\n",
        "print(sum)"
      ],
      "metadata": {
        "colab": {
          "base_uri": "https://localhost:8080/"
        },
        "id": "JyLMwAfALiHb",
        "outputId": "ed167c0f-7161-461a-a21e-f81bddc3fe08"
      },
      "execution_count": null,
      "outputs": [
        {
          "output_type": "stream",
          "name": "stdout",
          "text": [
            "14\n"
          ]
        }
      ]
    },
    {
      "cell_type": "code",
      "source": [
        "sum=0\n",
        "n=6565\n",
        "while n>0:\n",
        "  digit=n%10\n",
        "  sum=sum+digit\n",
        "  n=n//10\n",
        "print(sum)"
      ],
      "metadata": {
        "colab": {
          "base_uri": "https://localhost:8080/"
        },
        "id": "Kb495CIBNzTG",
        "outputId": "1ce78976-b4f8-45ca-c359-698508d1de10"
      },
      "execution_count": null,
      "outputs": [
        {
          "output_type": "stream",
          "name": "stdout",
          "text": [
            "22\n"
          ]
        }
      ]
    },
    {
      "cell_type": "code",
      "source": [
        "sum=0\n",
        "n=85654\n",
        "while n>0:\n",
        "  digit=n%10\n",
        "  sum=sum+digit\n",
        "  n=n//10\n",
        "print(sum)"
      ],
      "metadata": {
        "colab": {
          "base_uri": "https://localhost:8080/"
        },
        "id": "CqujKfTyBxQr",
        "outputId": "21a1d094-7f13-4fe9-8b92-ec74fddfacbc"
      },
      "execution_count": null,
      "outputs": [
        {
          "output_type": "stream",
          "name": "stdout",
          "text": [
            "28\n"
          ]
        }
      ]
    },
    {
      "cell_type": "code",
      "source": [
        "sum=1\n",
        "summ=0\n",
        "for T in range(1,6):\n",
        "  sum=sum*T\n",
        "  summ=summ+sum\n",
        "print(summ)\n"
      ],
      "metadata": {
        "colab": {
          "base_uri": "https://localhost:8080/"
        },
        "id": "nH0Ohe1BM0-z",
        "outputId": "2d6b34a5-a77e-4a9a-f9dc-23d7e63f1dd3"
      },
      "execution_count": null,
      "outputs": [
        {
          "output_type": "stream",
          "name": "stdout",
          "text": [
            "153\n"
          ]
        }
      ]
    },
    {
      "cell_type": "code",
      "source": [
        "sum=0\n",
        "n=5768\n",
        "while n>0:\n",
        "  digit=n%10\n",
        "  sum=sum+digit**2\n",
        "  n=n//10\n",
        "print(sum)"
      ],
      "metadata": {
        "colab": {
          "base_uri": "https://localhost:8080/"
        },
        "id": "h-MEccqtUBaz",
        "outputId": "4615084e-c152-47ab-c32d-6e7e14f3172d"
      },
      "execution_count": null,
      "outputs": [
        {
          "output_type": "stream",
          "name": "stdout",
          "text": [
            "174\n"
          ]
        }
      ]
    },
    {
      "cell_type": "code",
      "source": [
        "sum=0\n",
        "n=852369\n",
        "while n>0:\n",
        "  digit=n%10\n",
        "  sum=sum+digit**3\n",
        "  n=n//10\n",
        "print(sum)"
      ],
      "metadata": {
        "colab": {
          "base_uri": "https://localhost:8080/"
        },
        "id": "mSXni-PVWYeB",
        "outputId": "d002ceba-8582-42a8-aa3f-31871c29fb3a"
      },
      "execution_count": null,
      "outputs": [
        {
          "output_type": "stream",
          "name": "stdout",
          "text": [
            "1617\n"
          ]
        }
      ]
    },
    {
      "cell_type": "code",
      "source": [
        "sum"
      ],
      "metadata": {
        "id": "iSGRfyEiWNwF"
      },
      "execution_count": null,
      "outputs": []
    },
    {
      "cell_type": "code",
      "source": [
        "sum=0\n",
        "n=12345\n",
        "while n>0:\n",
        "  digit=n%10\n",
        "  sum=sum*10+digit\n",
        "  n=n//10\n",
        "print(sum)"
      ],
      "metadata": {
        "colab": {
          "base_uri": "https://localhost:8080/"
        },
        "id": "_mGviCR4LVR2",
        "outputId": "52493445-1f58-486a-b2fd-77348b04a11f"
      },
      "execution_count": null,
      "outputs": [
        {
          "output_type": "stream",
          "name": "stdout",
          "text": [
            "54321\n"
          ]
        }
      ]
    },
    {
      "cell_type": "code",
      "source": [
        "sum=0\n",
        "n=2552\n",
        "p=n\n",
        "while n>0:\n",
        "  digit=n%10\n",
        "  sum=sum*10+digit\n",
        "  n=n//10\n",
        "print(sum)\n",
        "if sum==p:\n",
        "  print(\"it is a palindrome number\")\n",
        "else:\n",
        "  print(\"It is not a palindrome number\")"
      ],
      "metadata": {
        "colab": {
          "base_uri": "https://localhost:8080/"
        },
        "id": "rLN499dWSjVe",
        "outputId": "debe6a8c-279d-4c61-bc92-fb666563a543"
      },
      "execution_count": null,
      "outputs": [
        {
          "output_type": "stream",
          "name": "stdout",
          "text": [
            "2552\n",
            "it is a palindrome number\n"
          ]
        }
      ]
    },
    {
      "cell_type": "code",
      "source": [
        "first_term=0\n",
        "second_term=1\n",
        "print(first_term)\n",
        "print(second_term)\n",
        "for i in range(3,11):\n",
        "  third=first_term+second_term\n",
        "  first_term=second_term\n",
        "  second_term=third\n",
        "print(third)"
      ],
      "metadata": {
        "colab": {
          "base_uri": "https://localhost:8080/"
        },
        "id": "DRuXGOqAZ5II",
        "outputId": "7eec414d-42da-4732-fb28-2a1bb3a495f8"
      },
      "execution_count": null,
      "outputs": [
        {
          "output_type": "stream",
          "name": "stdout",
          "text": [
            "0\n",
            "1\n",
            "34\n"
          ]
        }
      ]
    },
    {
      "cell_type": "code",
      "source": [
        "n=23\n",
        "for i in range(2,n):\n",
        "  if n%23==0:\n",
        "   print(Prime number)\n",
        "  else:\n",
        "    print(Non prime)"
      ],
      "metadata": {
        "colab": {
          "base_uri": "https://localhost:8080/",
          "height": 106
        },
        "id": "YXXFyLqVelBu",
        "outputId": "2fe0a83a-0365-4770-ad43-2f80572bb09c"
      },
      "execution_count": null,
      "outputs": [
        {
          "output_type": "error",
          "ename": "SyntaxError",
          "evalue": "invalid syntax. Perhaps you forgot a comma? (ipython-input-2784320117.py, line 4)",
          "traceback": [
            "\u001b[0;36m  File \u001b[0;32m\"/tmp/ipython-input-2784320117.py\"\u001b[0;36m, line \u001b[0;32m4\u001b[0m\n\u001b[0;31m    print(Prime number)\u001b[0m\n\u001b[0m          ^\u001b[0m\n\u001b[0;31mSyntaxError\u001b[0m\u001b[0;31m:\u001b[0m invalid syntax. Perhaps you forgot a comma?\n"
          ]
        }
      ]
    },
    {
      "cell_type": "code",
      "source": [
        "for i in range(1,100):\n",
        "  if i%2==0:\n",
        "    continue\n",
        "  print(i)"
      ],
      "metadata": {
        "colab": {
          "base_uri": "https://localhost:8080/"
        },
        "id": "K0kf4NR-iO_D",
        "outputId": "d84e2547-a530-4e67-8fa7-b8cb8a2378c2"
      },
      "execution_count": null,
      "outputs": [
        {
          "output_type": "stream",
          "name": "stdout",
          "text": [
            "1\n",
            "3\n",
            "5\n",
            "7\n",
            "9\n",
            "11\n",
            "13\n",
            "15\n",
            "17\n",
            "19\n",
            "21\n",
            "23\n",
            "25\n",
            "27\n",
            "29\n",
            "31\n",
            "33\n",
            "35\n",
            "37\n",
            "39\n",
            "41\n",
            "43\n",
            "45\n",
            "47\n",
            "49\n",
            "51\n",
            "53\n",
            "55\n",
            "57\n",
            "59\n",
            "61\n",
            "63\n",
            "65\n",
            "67\n",
            "69\n",
            "71\n",
            "73\n",
            "75\n",
            "77\n",
            "79\n",
            "81\n",
            "83\n",
            "85\n",
            "87\n",
            "89\n",
            "91\n",
            "93\n",
            "95\n",
            "97\n",
            "99\n"
          ]
        }
      ]
    },
    {
      "cell_type": "code",
      "source": [],
      "metadata": {
        "id": "2hP-j69HOWwR"
      },
      "execution_count": null,
      "outputs": []
    },
    {
      "cell_type": "code",
      "source": [
        "sum=0\n",
        "for i in range(1,11,2):\n",
        "  fac=1\n",
        "  for p in range(1,i+1):\n",
        "    fac=fac*p\n",
        "  sum=sum+fac\n",
        "  print(sum)\n",
        "\n"
      ],
      "metadata": {
        "id": "zfEbYCM-iOwy",
        "colab": {
          "base_uri": "https://localhost:8080/"
        },
        "outputId": "74448ae5-7e4d-4ba6-9095-c65e2e8a4718"
      },
      "execution_count": null,
      "outputs": [
        {
          "output_type": "stream",
          "name": "stdout",
          "text": [
            "1\n",
            "7\n",
            "127\n",
            "5167\n",
            "368047\n"
          ]
        }
      ]
    },
    {
      "cell_type": "code",
      "source": [
        "sum=0\n",
        "for i in range(1,19,4):\n",
        "  fac=1\n",
        "  for p in range(1,i+1):\n",
        "    fac=fac*p\n",
        "  sum=sum+fac\n",
        "  print(sum)"
      ],
      "metadata": {
        "colab": {
          "base_uri": "https://localhost:8080/"
        },
        "id": "zShp61FPcMoL",
        "outputId": "21ab1cfc-cd59-4b31-8b55-76986391b727"
      },
      "execution_count": null,
      "outputs": [
        {
          "output_type": "stream",
          "name": "stdout",
          "text": [
            "1\n",
            "121\n",
            "363001\n",
            "6227383801\n",
            "355693655479801\n"
          ]
        }
      ]
    },
    {
      "cell_type": "code",
      "source": [
        "sum=0\n",
        "fac=1\n",
        "for i in range(1,11):\n",
        "  fac=fac*i\n",
        "  if i%2!=0:\n",
        "     sum=sum+fac\n",
        "     print(sum)\n"
      ],
      "metadata": {
        "colab": {
          "base_uri": "https://localhost:8080/"
        },
        "id": "EEDvPRLJd_5F",
        "outputId": "36050be8-31f3-408b-a1c1-5a0fb21bd5a2"
      },
      "execution_count": null,
      "outputs": [
        {
          "output_type": "stream",
          "name": "stdout",
          "text": [
            "1\n",
            "7\n",
            "127\n",
            "5167\n",
            "368047\n"
          ]
        }
      ]
    },
    {
      "cell_type": "code",
      "source": [
        "\n",
        "first=int(input(\"First number=\"))\n",
        "second=int(input(\"Second number=\"))\n",
        "if first>second:\n",
        "  smaller= second\n",
        "else:\n",
        "  smaller= first\n",
        "for i in range(1,smaller+1):\n",
        "  if first%i==0 and second%i==0:\n",
        "    HCF=i\n",
        "print(HCF)\n",
        "print(first*second/HCF)"
      ],
      "metadata": {
        "colab": {
          "base_uri": "https://localhost:8080/"
        },
        "id": "dv3b9AGyx-j1",
        "outputId": "f836af04-5902-4597-b118-8b5c0438a86e"
      },
      "execution_count": null,
      "outputs": [
        {
          "output_type": "stream",
          "name": "stdout",
          "text": [
            "First number=12\n",
            "Second number=16\n",
            "4\n",
            "48.0\n"
          ]
        }
      ]
    },
    {
      "cell_type": "code",
      "source": [
        "first=int(input(\"First num=\"))\n",
        "second=int(input(\"Second num=\"))\n",
        "if first>second:\n",
        "  greatest= first\n",
        "else:\n",
        "  greatest= second\n",
        "for i in range(greatest, first*second):\n",
        "  if i%first==0 and i%second==0:\n",
        "    break\n",
        "    LCM=i\n",
        "print(i)"
      ],
      "metadata": {
        "colab": {
          "base_uri": "https://localhost:8080/"
        },
        "id": "Q-DxGo0-AXUN",
        "outputId": "4a413baa-8921-425b-8286-9c9e8cb495e9"
      },
      "execution_count": null,
      "outputs": [
        {
          "output_type": "stream",
          "name": "stdout",
          "text": [
            "First num=12\n",
            "Second num=16\n",
            "48\n"
          ]
        }
      ]
    },
    {
      "cell_type": "code",
      "source": [
        "# @title Default title text\n",
        "first=int(input(\"Circle completed by A in=\"))\n",
        "second=int(input(\"Circle completed by B in=\"))\n",
        "if first>second:\n",
        "  greatest= first\n",
        "else:\n",
        "  greatest= second\n",
        "for i in range(greatest, first*second):\n",
        " if i%first==0 and i%second==0:\n",
        "  break\n",
        "  LCM=i\n",
        "print(\"Time they meet=\", i)\n",
        "fourth=int(input(\"Time=\"))\n",
        "print(\"How many times they meet=\", fourth//i)"
      ],
      "metadata": {
        "colab": {
          "base_uri": "https://localhost:8080/"
        },
        "id": "9Vb-fwlY5vnB",
        "outputId": "1ef49058-6fe0-4737-9940-15f746c676e8"
      },
      "execution_count": null,
      "outputs": [
        {
          "output_type": "stream",
          "name": "stdout",
          "text": [
            "Circle completed by A in=40\n",
            "Circle completed by B in=30\n",
            "Time they meet= 120\n",
            "Time=630\n",
            "How many times they meet= 5\n"
          ]
        }
      ]
    },
    {
      "cell_type": "code",
      "source": [
        "def info():\n",
        "  print(\"pulkit rana\")\n",
        "info()"
      ],
      "metadata": {
        "colab": {
          "base_uri": "https://localhost:8080/"
        },
        "id": "82m_L7A1SbWW",
        "outputId": "ee922afc-7510-4af7-d6dd-4f8b162811da"
      },
      "execution_count": null,
      "outputs": [
        {
          "output_type": "stream",
          "name": "stdout",
          "text": [
            "pulkit rana\n"
          ]
        }
      ]
    },
    {
      "cell_type": "code",
      "source": [
        "def add_n(a,b):\n",
        "  return a+b\n",
        "add_n(20,50)\n",
        "x=add_n(20,50)\n",
        "print(x)\n",
        "p=add_n(50,60)\n",
        "print(p)\n",
        "s=add_n(800,500)\n",
        "print(s)\n",
        "\n"
      ],
      "metadata": {
        "colab": {
          "base_uri": "https://localhost:8080/"
        },
        "id": "AOgjnjmrTdTh",
        "outputId": "fa6f950c-0bc8-451a-d4f0-ae4831af99d2"
      },
      "execution_count": null,
      "outputs": [
        {
          "output_type": "stream",
          "name": "stdout",
          "text": [
            "70\n",
            "110\n",
            "1300\n"
          ]
        }
      ]
    },
    {
      "cell_type": "code",
      "source": [
        "def add_n(a,b):\n",
        "  return a+b\n",
        "def average(num):\n",
        "  return num/2\n",
        "number=add_n(10,50)\n",
        "avg=average(number)\n",
        "print(avg)\n",
        "\n",
        "\n"
      ],
      "metadata": {
        "colab": {
          "base_uri": "https://localhost:8080/"
        },
        "id": "KwpkZIGdU0y9",
        "outputId": "25a7ac62-be46-489d-ba9e-cb9e58956308"
      },
      "execution_count": null,
      "outputs": [
        {
          "output_type": "stream",
          "name": "stdout",
          "text": [
            "30.0\n"
          ]
        }
      ]
    },
    {
      "cell_type": "code",
      "source": [
        "def add_num(a,b):\n",
        "  return a+b\n",
        "def average(a,b):\n",
        " total=add_num(a,b)\n",
        " avg=total/2\n",
        " return avg\n",
        "average(10,50)\n",
        "\n",
        "\n"
      ],
      "metadata": {
        "colab": {
          "base_uri": "https://localhost:8080/"
        },
        "id": "jkmWu6R2ZnRe",
        "outputId": "e4162bbd-ec94-479a-d5cd-bf1b1d7ca6bc"
      },
      "execution_count": null,
      "outputs": [
        {
          "output_type": "execute_result",
          "data": {
            "text/plain": [
              "30.0"
            ]
          },
          "metadata": {},
          "execution_count": 27
        }
      ]
    },
    {
      "cell_type": "code",
      "source": [
        "name=\"Pulkitrana\"\n",
        "print(name[2])\n",
        "if \"a\" in name:\n",
        " print(\"available\")\n",
        "else:\n",
        "  print(\"unavailable\")\n",
        "\n"
      ],
      "metadata": {
        "colab": {
          "base_uri": "https://localhost:8080/"
        },
        "id": "tqtKlXh2bzKT",
        "outputId": "a05c1715-6a6b-477e-fa84-88c2f27989b2"
      },
      "execution_count": null,
      "outputs": [
        {
          "output_type": "stream",
          "name": "stdout",
          "text": [
            "l\n",
            "available\n"
          ]
        }
      ]
    },
    {
      "cell_type": "code",
      "source": [
        "name=\"Pulkitrana\"\n",
        "print(name[2:7])"
      ],
      "metadata": {
        "colab": {
          "base_uri": "https://localhost:8080/"
        },
        "id": "NUrfpCwmcbUQ",
        "outputId": "dcd55f62-4925-4b63-8d8b-c265338c6c92"
      },
      "execution_count": null,
      "outputs": [
        {
          "output_type": "stream",
          "name": "stdout",
          "text": [
            "lkitr\n"
          ]
        }
      ]
    },
    {
      "cell_type": "code",
      "source": [
        "name=\"Pulkitrana\"\n",
        "print(name[-5: ])\n",
        "print(name[ :-5])"
      ],
      "metadata": {
        "colab": {
          "base_uri": "https://localhost:8080/"
        },
        "id": "MdKzH0_ggKgw",
        "outputId": "9ff92d34-eca7-429e-8047-8b39d0a5d623"
      },
      "execution_count": null,
      "outputs": [
        {
          "output_type": "stream",
          "name": "stdout",
          "text": [
            "trana\n",
            "Pulki\n"
          ]
        }
      ]
    },
    {
      "cell_type": "code",
      "source": [
        "number=18881\n",
        "reverse=str(number)[::-1]\n",
        "if number==int(reverse):\n",
        "  print(\"It is a Pelindrome \")\n",
        "else:\n",
        "  print(\"Non-Pelindrome\")\n",
        "print(num/2)\n",
        "\n"
      ],
      "metadata": {
        "colab": {
          "base_uri": "https://localhost:8080/"
        },
        "id": "S62WcsLBgxYX",
        "outputId": "af17a0ad-89a6-4514-b4a3-a16960289d1a"
      },
      "execution_count": null,
      "outputs": [
        {
          "output_type": "stream",
          "name": "stdout",
          "text": [
            "It is a Pelindrome \n",
            "9440.5\n"
          ]
        }
      ]
    },
    {
      "cell_type": "code",
      "source": [
        "number=188881\n",
        "print(number/2)\n"
      ],
      "metadata": {
        "colab": {
          "base_uri": "https://localhost:8080/"
        },
        "id": "GTkbJTogk9ZY",
        "outputId": "e927b802-2500-49a4-8a13-b366e7d87d85"
      },
      "execution_count": null,
      "outputs": [
        {
          "output_type": "stream",
          "name": "stdout",
          "text": [
            "94440.5\n"
          ]
        }
      ]
    },
    {
      "cell_type": "code",
      "source": [
        "number=1331\n",
        "reverse=str(number)[::-1]\n",
        "if number==int(reverse):\n",
        "  print(\"It is a pelindrome\")\n",
        "else:\n",
        "  print(\"non-pelindrome\")"
      ],
      "metadata": {
        "colab": {
          "base_uri": "https://localhost:8080/"
        },
        "id": "yoj5dlRymEW7",
        "outputId": "7f37e8f5-c28d-4263-9be4-609b703179d9"
      },
      "execution_count": null,
      "outputs": [
        {
          "output_type": "stream",
          "name": "stdout",
          "text": [
            "It is a pelindrome\n"
          ]
        }
      ]
    },
    {
      "cell_type": "code",
      "source": [
        "name=\"pulkitrana\"\n",
        "for p in name:\n",
        " print(p)"
      ],
      "metadata": {
        "colab": {
          "base_uri": "https://localhost:8080/"
        },
        "id": "jUj3g48WnPWQ",
        "outputId": "ec9d13b2-93d3-41fb-da71-925fe0b9e300"
      },
      "execution_count": null,
      "outputs": [
        {
          "output_type": "stream",
          "name": "stdout",
          "text": [
            "p\n",
            "u\n",
            "l\n",
            "k\n",
            "i\n",
            "t\n",
            "r\n",
            "a\n",
            "n\n",
            "a\n"
          ]
        }
      ]
    },
    {
      "cell_type": "code",
      "source": [
        "a=5\n",
        "b=6\n",
        "print(a+b)"
      ],
      "metadata": {
        "colab": {
          "base_uri": "https://localhost:8080/"
        },
        "id": "xEXVSbvLoY4y",
        "outputId": "195cc297-31e3-4ef7-999f-3d1064b3f583"
      },
      "execution_count": null,
      "outputs": [
        {
          "output_type": "stream",
          "name": "stdout",
          "text": [
            "11\n"
          ]
        }
      ]
    },
    {
      "cell_type": "code",
      "source": [
        "#List\n",
        "list=[]\n",
        "amount =[]\n",
        "discount =[]\n",
        "total_bill=0\n",
        "total_discount=0\n",
        "numb= int(input(\"Products in your list =\"))\n",
        "for i in range(numb):\n",
        "  items=(input(\"Product name :\"))\n",
        "  amo=int(input(\"Total Amount :\"))\n",
        "  disco=int(input(\"enter discount of item :\"))\n",
        "  item.append(items)\n",
        "  amount.append(amo)\n",
        "  discount.append(disco)\n",
        "  total_bill+= amounts\n",
        "  discount= total_bill*15/100\n",
        "  final_bill= total_bill-discounts\n",
        "  discount2= final_bill*10/100\n",
        "  grand_total= final_bill-grand_total\n",
        "print(item)\n",
        "print(amount)\n",
        "print(discount)\n",
        "print(final_bill)\n",
        "print(grand_total)\n",
        "\n"
      ],
      "metadata": {
        "colab": {
          "base_uri": "https://localhost:8080/",
          "height": 280
        },
        "id": "G4xBI7rDBDEO",
        "outputId": "325f937d-7e5a-40a8-b8d5-813b4c43b18b"
      },
      "execution_count": null,
      "outputs": [
        {
          "name": "stdout",
          "output_type": "stream",
          "text": [
            "Products in your list =2\n",
            "Product name :nknk\\\n",
            "Total Amount :200\n",
            "enter discount of item :15\n"
          ]
        },
        {
          "output_type": "error",
          "ename": "NameError",
          "evalue": "name 'item' is not defined",
          "traceback": [
            "\u001b[0;31m---------------------------------------------------------------------------\u001b[0m",
            "\u001b[0;31mNameError\u001b[0m                                 Traceback (most recent call last)",
            "\u001b[0;32m/tmp/ipython-input-3540013801.py\u001b[0m in \u001b[0;36m<cell line: 0>\u001b[0;34m()\u001b[0m\n\u001b[1;32m     10\u001b[0m   \u001b[0mamo\u001b[0m\u001b[0;34m=\u001b[0m\u001b[0mint\u001b[0m\u001b[0;34m(\u001b[0m\u001b[0minput\u001b[0m\u001b[0;34m(\u001b[0m\u001b[0;34m\"Total Amount :\"\u001b[0m\u001b[0;34m)\u001b[0m\u001b[0;34m)\u001b[0m\u001b[0;34m\u001b[0m\u001b[0;34m\u001b[0m\u001b[0m\n\u001b[1;32m     11\u001b[0m   \u001b[0mdisco\u001b[0m\u001b[0;34m=\u001b[0m\u001b[0mint\u001b[0m\u001b[0;34m(\u001b[0m\u001b[0minput\u001b[0m\u001b[0;34m(\u001b[0m\u001b[0;34m\"enter discount of item :\"\u001b[0m\u001b[0;34m)\u001b[0m\u001b[0;34m)\u001b[0m\u001b[0;34m\u001b[0m\u001b[0;34m\u001b[0m\u001b[0m\n\u001b[0;32m---> 12\u001b[0;31m   \u001b[0mitem\u001b[0m\u001b[0;34m.\u001b[0m\u001b[0mappend\u001b[0m\u001b[0;34m(\u001b[0m\u001b[0mitems\u001b[0m\u001b[0;34m)\u001b[0m\u001b[0;34m\u001b[0m\u001b[0;34m\u001b[0m\u001b[0m\n\u001b[0m\u001b[1;32m     13\u001b[0m   \u001b[0mamount\u001b[0m\u001b[0;34m.\u001b[0m\u001b[0mappend\u001b[0m\u001b[0;34m(\u001b[0m\u001b[0mamo\u001b[0m\u001b[0;34m)\u001b[0m\u001b[0;34m\u001b[0m\u001b[0;34m\u001b[0m\u001b[0m\n\u001b[1;32m     14\u001b[0m   \u001b[0mdiscount\u001b[0m\u001b[0;34m.\u001b[0m\u001b[0mappend\u001b[0m\u001b[0;34m(\u001b[0m\u001b[0mdisco\u001b[0m\u001b[0;34m)\u001b[0m\u001b[0;34m\u001b[0m\u001b[0;34m\u001b[0m\u001b[0m\n",
            "\u001b[0;31mNameError\u001b[0m: name 'item' is not defined"
          ]
        }
      ]
    },
    {
      "cell_type": "code",
      "source": [
        "customer_name=[\"a\",\"b\",\"c\",\"d\",\"e\",\"f\",\"g\",\"h\",\"i\",\"j\",\"k\",\"l\"]\n",
        "states=[\"hr\",\"hp\",\"hr\",\"hp\",\"pb\",\"pb\",\"hp\",\"pb\",\"hp\",\"hr\",\"pb\",\"hp\"]\n",
        "product_name=[\"fridge\",\"mobile\",\"fridge\",\"laptop\",\"laptop\",\"mobile\",\"mobile\",\"laptop\",\"mobile\",\"fridge\",\"laptop\",\"mobile\"]\n",
        "gender=[\"m\",\"f\",\"f\",\"m\",\"m\",\"f\",\"m\",\"f\",\"m\",\"m\",\"f\",\"f\"]\n",
        "colors=[\"red\",\"blue\",\"pink\"]\n",
        "purchase=[15000,28000,38000,33000,32000,25000,35000,8000,17000,20000,40000,15000]\n",
        "amount=[20000,30000,45000,30000,45000,58000,55000,20000,30000,50000,45000,56000]\n",
        "total_sales=0\n",
        "print(customer_name)\n",
        "print(states)\n",
        "print(product_name)\n",
        "print(gender)\n",
        "print(amount)\n",
        "for i in amount:\n",
        "  total_sales=total_sales+i\n",
        "print(total_sales)\n",
        "unique_state=[]\n",
        "state_wise_sales=[]\n",
        "for i in states:\n",
        "  if i not in unique_state:\n",
        "    unique_state.append(i)\n",
        "    state_wise_sales.append(0)\n",
        "print(unique_state)\n",
        "for i in range(len(states)):\n",
        "  index=unique_state.index(states[i])\n",
        "  state_wise_sales[index]= state_wise_sales[index]+amount[i]\n",
        "print(state_wise_sales)\n",
        "import matplotlib.pyplot as plt\n",
        "plt.bar(unique_state,state_wise_sales,color=colors)\n",
        "plt.xlabel(\"state\")\n",
        "plt.ylabel(\"sales\")\n",
        "plt.show()\n",
        "profitt=[]\n",
        "for p in range(len(amount)):\n",
        "  profitt.append(amount[p]-purchase[p])\n",
        "print(\"gain\", profitt)\n",
        "\n",
        "\n",
        "state_wise_profit=[]\n",
        "for t in unique_state:\n",
        "   state_wise_profit.append(0)\n",
        "print(\"unq state\", unique_state)\n",
        "for u in range(len(states)):\n",
        "   indexx=unique_state.index(states[u])\n",
        "   state_wise_profit[indexx]= state_wise_profit[indexx]+profitt[u]\n",
        "print(\"state wise profit =\", state_wise_profit)\n",
        "\n"
      ],
      "metadata": {
        "colab": {
          "base_uri": "https://localhost:8080/",
          "height": 660
        },
        "id": "zBTFCHoxWyVi",
        "outputId": "0d9c634c-cf68-4eff-d2d5-95425c76d516"
      },
      "execution_count": 25,
      "outputs": [
        {
          "output_type": "stream",
          "name": "stdout",
          "text": [
            "['a', 'b', 'c', 'd', 'e', 'f', 'g', 'h', 'i', 'j', 'k', 'l']\n",
            "['hr', 'hp', 'hr', 'hp', 'pb', 'pb', 'hp', 'pb', 'hp', 'hr', 'pb', 'hp']\n",
            "['fridge', 'mobile', 'fridge', 'laptop', 'laptop', 'mobile', 'mobile', 'laptop', 'mobile', 'fridge', 'laptop', 'mobile']\n",
            "['m', 'f', 'f', 'm', 'm', 'f', 'm', 'f', 'm', 'm', 'f', 'f']\n",
            "[20000, 30000, 45000, 30000, 45000, 58000, 55000, 20000, 30000, 50000, 45000, 56000]\n",
            "484000\n",
            "['hr', 'hp', 'pb']\n",
            "[115000, 201000, 168000]\n"
          ]
        },
        {
          "output_type": "display_data",
          "data": {
            "text/plain": [
              "<Figure size 640x480 with 1 Axes>"
            ],
            "image/png": "[encoded data removed]"
          },
          "metadata": {}
        },
        {
          "output_type": "stream",
          "name": "stdout",
          "text": [
            "gain [5000, 2000, 7000, -3000, 13000, 33000, 20000, 12000, 13000, 30000, 5000, 41000]\n",
            "unq state ['hr', 'hp', 'pb']\n",
            "state wise profit = [42000, 73000, 63000]\n"
          ]
        }
      ]
    },
    {
      "cell_type": "code",
      "source": [
        "#tuples\n",
        "a= (10,20,30,40)\n",
        "for i in a:\n",
        "  print(i)\n",
        "\n",
        "b = [10,20,30,40]\n",
        "for i in b:\n",
        "  print(i)\n",
        "tuple(b)\n"
      ],
      "metadata": {
        "colab": {
          "base_uri": "https://localhost:8080/"
        },
        "id": "F10iM52VIifa",
        "outputId": "51d22172-a8ec-4333-a546-c9bee5f7fd57"
      },
      "execution_count": null,
      "outputs": [
        {
          "output_type": "stream",
          "name": "stdout",
          "text": [
            "10\n",
            "20\n",
            "30\n",
            "40\n",
            "10\n",
            "20\n",
            "30\n",
            "40\n"
          ]
        },
        {
          "output_type": "execute_result",
          "data": {
            "text/plain": [
              "(10, 20, 30, 40)"
            ]
          },
          "metadata": {},
          "execution_count": 2
        }
      ]
    },
    {
      "cell_type": "code",
      "source": [
        "a= {\"item\":500,\n",
        "    \"item_2\":600,\n",
        "    \"item_3\":800}\n",
        "print(a)\n",
        "print(a[\"item\"])\n",
        "for key, value in a.items():\n",
        "  print(\"price of\", key,\"is\", value)\n",
        "for value in a.values():\n",
        "  print(\"we get=\", value)\n",
        "  print()\n",
        "for key in a.keys():\n",
        "  print(\"we get=\", key)"
      ],
      "metadata": {
        "colab": {
          "base_uri": "https://localhost:8080/"
        },
        "id": "UUr4DCoKKkmP",
        "outputId": "fece6d5e-8973-45f0-be3e-d4c41abce66c"
      },
      "execution_count": null,
      "outputs": [
        {
          "output_type": "stream",
          "name": "stdout",
          "text": [
            "{'item': 500, 'item_2': 600, 'item_3': 800}\n",
            "500\n",
            "price of item is 500\n",
            "price of item_2 is 600\n",
            "price of item_3 is 800\n",
            "we get= 500\n",
            "\n",
            "we get= 600\n",
            "\n",
            "we get= 800\n",
            "\n",
            "we get= item\n",
            "we get= item_2\n",
            "we get= item_3\n"
          ]
        }
      ]
    },
    {
      "cell_type": "code",
      "source": [
        "#exceptional handling\n",
        "try:\n",
        "  a=10\n",
        "  b=0\n",
        "  print(a/b)\n",
        "except ZeroDivisionError:\n",
        "  print(\"not valid\")\n",
        "else:\n",
        "  print(\"your code executed successfully\")\n",
        "finally:\n",
        "  print(\"thank your visiting us\")"
      ],
      "metadata": {
        "colab": {
          "base_uri": "https://localhost:8080/"
        },
        "id": "NFdeEgAaPCa1",
        "outputId": "7028baad-438d-4ada-f90c-8aa00c334b96"
      },
      "execution_count": null,
      "outputs": [
        {
          "output_type": "stream",
          "name": "stdout",
          "text": [
            "not valid\n",
            "thank your visiting us\n"
          ]
        }
      ]
    },
    {
      "cell_type": "code",
      "source": [
        "name=(\" hello world \")\n",
        " print(name.strip(\" \"))\n",
        "\n"
      ],
      "metadata": {
        "colab": {
          "base_uri": "https://localhost:8080/",
          "height": 106
        },
        "id": "3VztHizxRaiF",
        "outputId": "6f2d1be6-b024-4772-b703-e5e3e34cb536"
      },
      "execution_count": null,
      "outputs": [
        {
          "output_type": "error",
          "ename": "IndentationError",
          "evalue": "unexpected indent (ipython-input-908491160.py, line 2)",
          "traceback": [
            "\u001b[0;36m  File \u001b[0;32m\"/tmp/ipython-input-908491160.py\"\u001b[0;36m, line \u001b[0;32m2\u001b[0m\n\u001b[0;31m    print(name.strip(\" \"))\u001b[0m\n\u001b[0m    ^\u001b[0m\n\u001b[0;31mIndentationError\u001b[0m\u001b[0;31m:\u001b[0m unexpected indent\n"
          ]
        }
      ]
    },
    {
      "cell_type": "code",
      "source": [
        "states = [\"PB\",\"HP\",\"HP\",\"HR\",\"HR\",\"PB\",\"HP\",\"HR\",\"PB\"]\n",
        "cases = [100000,45000,6500,45000,41000,22000,30000,32000,54000]\n",
        "recoveries = [59000,36000,4800,32000,26000,18000,12000,15000,22000]\n",
        "deaths = [2000,15000,5000,2000,2600,3500,4800,9700,14600]\n",
        "total_deaths= 0\n",
        "total_recoveries = 0\n",
        "total_casess = 0\n",
        "print(states)\n",
        "print(total_cases)\n",
        "print(recoveries)\n",
        "print(deaths)\n",
        "for i in deaths:\n",
        "  total_deaths=total_deaths+i\n",
        "print(\"total deaths=\" ,total_deaths)\n",
        "for t in recoveries:\n",
        "  total_recoveries=total_recoveries+t\n",
        "print(\"Total recoveries =\", total_recoveries)\n",
        "for y in total_cases:\n",
        "  total_casess=total_casess+y\n",
        "print(\"Total cases =\", total_casess)\n",
        "\n",
        "print(\"maximun deaths=\", max(deaths))\n",
        "print(\"minumum deaths=\", min(deaths))\n",
        "unique_states=[]\n",
        "state_wise_cases=[]\n",
        "for i in states:\n",
        "  if i not in unique_states:\n",
        "    unique_states.append(i)\n",
        "    state_wise_cases.append(0)\n",
        "print(\"States=\", unique_states)\n",
        "for i in range(len(states)):\n",
        "  index= unique_states.index(states[i])\n",
        "  state_wise_cases[index]= state_wise_cases[index]+cases[i]\n",
        "print(\"State wise total cases =\", state_wise_cases)\n",
        "state_wise_recoceries=[]\n",
        "for i in range(len(states)):\n",
        "  index= unique_states.index(states[i])\n",
        "  state_wise_recoveries[index]= state_wise_recoveries[index]+recoveries[i]\n",
        "print(\"state wise recoveries=\", state_wise_reciveries)\n",
        "\n",
        "\n",
        "\n",
        "\n",
        "\n"
      ],
      "metadata": {
        "colab": {
          "base_uri": "https://localhost:8080/",
          "height": 419
        },
        "id": "DaRg9K1GCZuC",
        "outputId": "d2d1c914-228b-42b7-b6f4-1f473453c2f7"
      },
      "execution_count": null,
      "outputs": [
        {
          "output_type": "stream",
          "name": "stdout",
          "text": [
            "['PB', 'HP', 'HP', 'HR', 'HR', 'PB', 'HP', 'HR', 'PB']\n",
            "[100000, 45000, 6500, 45000, 41000, 22000]\n",
            "[59000, 36000, 4800, 32000, 26000, 18000, 12000, 15000, 22000]\n",
            "[2000, 15000, 5000, 2000, 2600, 3500, 4800, 9700, 14600]\n",
            "total deaths= 59200\n",
            "Total recoveries = 224800\n",
            "Total cases = 259500\n",
            "maximun deaths= 15000\n",
            "minumum deaths= 2000\n",
            "States= ['PB', 'HP', 'HR']\n",
            "State wise total cases = [176000, 81500, 118000]\n"
          ]
        },
        {
          "output_type": "error",
          "ename": "NameError",
          "evalue": "name 'state_wise_recoveries' is not defined",
          "traceback": [
            "\u001b[0;31m---------------------------------------------------------------------------\u001b[0m",
            "\u001b[0;31mNameError\u001b[0m                                 Traceback (most recent call last)",
            "\u001b[0;32m/tmp/ipython-input-3993266618.py\u001b[0m in \u001b[0;36m<cell line: 0>\u001b[0;34m()\u001b[0m\n\u001b[1;32m     36\u001b[0m \u001b[0;32mfor\u001b[0m \u001b[0mi\u001b[0m \u001b[0;32min\u001b[0m \u001b[0mrange\u001b[0m\u001b[0;34m(\u001b[0m\u001b[0mlen\u001b[0m\u001b[0;34m(\u001b[0m\u001b[0mrecoveries\u001b[0m\u001b[0;34m)\u001b[0m\u001b[0;34m)\u001b[0m\u001b[0;34m:\u001b[0m\u001b[0;34m\u001b[0m\u001b[0;34m\u001b[0m\u001b[0m\n\u001b[1;32m     37\u001b[0m   \u001b[0mindex\u001b[0m\u001b[0;34m=\u001b[0m \u001b[0munique_states\u001b[0m\u001b[0;34m.\u001b[0m\u001b[0mindex\u001b[0m\u001b[0;34m(\u001b[0m\u001b[0mstates\u001b[0m\u001b[0;34m[\u001b[0m\u001b[0mi\u001b[0m\u001b[0;34m]\u001b[0m\u001b[0;34m)\u001b[0m\u001b[0;34m\u001b[0m\u001b[0;34m\u001b[0m\u001b[0m\n\u001b[0;32m---> 38\u001b[0;31m   \u001b[0mstate_wise_recoveries\u001b[0m\u001b[0;34m[\u001b[0m\u001b[0mindex\u001b[0m\u001b[0;34m]\u001b[0m\u001b[0;34m=\u001b[0m \u001b[0mstate_wise_recoveries\u001b[0m\u001b[0;34m[\u001b[0m\u001b[0mindex\u001b[0m\u001b[0;34m]\u001b[0m\u001b[0;34m+\u001b[0m\u001b[0mrecoveries\u001b[0m\u001b[0;34m[\u001b[0m\u001b[0mi\u001b[0m\u001b[0;34m]\u001b[0m\u001b[0;34m\u001b[0m\u001b[0;34m\u001b[0m\u001b[0m\n\u001b[0m\u001b[1;32m     39\u001b[0m \u001b[0mprint\u001b[0m\u001b[0;34m(\u001b[0m\u001b[0;34m\"state wise recoveries=\"\u001b[0m\u001b[0;34m,\u001b[0m \u001b[0mstate_wise_reciveries\u001b[0m\u001b[0;34m)\u001b[0m\u001b[0;34m\u001b[0m\u001b[0;34m\u001b[0m\u001b[0m\n\u001b[1;32m     40\u001b[0m \u001b[0;34m\u001b[0m\u001b[0m\n",
            "\u001b[0;31mNameError\u001b[0m: name 'state_wise_recoveries' is not defined"
          ]
        }
      ]
    },
    {
      "cell_type": "code",
      "source": [
        "employee={\"employee id\":[1,2,3,4,5],\n",
        "          \"name\":[\"a\",\"b\",\"c\",\"d\",\"e\"],\n",
        "          \"salary\":[50,40,70,100,200],\n",
        "          \"designation\":[\"x\",\"y\",\"z\",\"h\",\"t\"]}\n",
        "total= sum(employee[\"salary\"])\n",
        "print(\"total salary=\", total)\n",
        "print(employee)\n",
        "for key,value in employee.items():\n",
        "  print(key, \"is=\", value)\n",
        "\n"
      ],
      "metadata": {
        "id": "e2VIkye0o74A",
        "colab": {
          "base_uri": "https://localhost:8080/"
        },
        "outputId": "bb5255ac-e92f-449f-da14-719ed024adb6"
      },
      "execution_count": null,
      "outputs": [
        {
          "output_type": "stream",
          "name": "stdout",
          "text": [
            "total salary= 460\n",
            "{'employee id': [1, 2, 3, 4, 5], 'name': ['a', 'b', 'c', 'd', 'e'], 'salary': [50, 40, 70, 100, 200], 'designation': ['x', 'y', 'z', 'h', 't']}\n",
            "employee id is= [1, 2, 3, 4, 5]\n",
            "name is= ['a', 'b', 'c', 'd', 'e']\n",
            "salary is= [50, 40, 70, 100, 200]\n",
            "designation is= ['x', 'y', 'z', 'h', 't']\n"
          ]
        }
      ]
    },
    {
      "cell_type": "code",
      "source": [
        "with open(\"xyz.txt\", \"w\")as file:\n",
        "  file.write(\"hello world\\n\")\n",
        "  file.write(\"How are you\\n\")\n",
        "  file.write(\"i am okay\\n\")\n",
        "with open(\"xyz.txt\", \"r\")as file:\n",
        "  a=file.readline()\n",
        "print(a)\n",
        "\n"
      ],
      "metadata": {
        "id": "zEU_KN9-XxjO",
        "colab": {
          "base_uri": "https://localhost:8080/"
        },
        "outputId": "f356899d-17c4-41f1-841e-8c767ec3c456"
      },
      "execution_count": null,
      "outputs": [
        {
          "output_type": "stream",
          "name": "stdout",
          "text": [
            "hello world\n",
            "\n"
          ]
        }
      ]
    },
    {
      "cell_type": "code",
      "source": [
        "#numpy import numpy as np\n",
        "import numpy as np\n",
        "a=np.array([5,6,7,8,9])\n",
        "print(a)\n",
        "print(a[1:3])\n",
        "b=np.array([1,2,3,4])\n",
        "c=np.array([4,5,6,7])\n",
        "d=np.array([1,6,3,4])\n",
        "print(b)\n",
        "print(c)\n",
        "print(d)\n",
        "print(b[::-3])\n",
        "print(c[1::])\n",
        "print(d[1:5])\n",
        "x=np.array([[5,6,7],[6,8,4]])\n",
        "g=np.array([5,6,9])\n",
        "print(x+g)\n",
        "print(x-g)\n",
        "print(x*g)\n",
        "\n"
      ],
      "metadata": {
        "colab": {
          "base_uri": "https://localhost:8080/"
        },
        "id": "r5iV2cCN9wNz",
        "outputId": "0d7dfe00-0c5c-42c1-83fd-a00afe7ed0c4"
      },
      "execution_count": null,
      "outputs": [
        {
          "output_type": "stream",
          "name": "stdout",
          "text": [
            "[5 6 7 8 9]\n",
            "[6 7]\n",
            "[1 2 3 4]\n",
            "[4 5 6 7]\n",
            "[1 6 3 4]\n",
            "[4 1]\n",
            "[5 6 7]\n",
            "[6 3 4]\n",
            "[[10 12 16]\n",
            " [11 14 13]]\n",
            "[[ 0  0 -2]\n",
            " [ 1  2 -5]]\n",
            "[[25 36 63]\n",
            " [30 48 36]]\n"
          ]
        }
      ]
    },
    {
      "cell_type": "code",
      "source": [
        "# PANDAS = import pandas as pd\n",
        "import pandas as pd\n",
        "employee={\"name\":[\"Pulkit\", \"Gaurav\", \"Sahil\"],\n",
        "          \"salary\":[50000,40000,60000],\n",
        "          \"Designation\":[\"x\",\"y\",\"z\"]}\n",
        "pul= pd.DataFrame(employee)\n",
        "print(pul)\n",
        "print(pul[[\"name\",\"salary\"]])"
      ],
      "metadata": {
        "id": "neQPVM1MApgX",
        "colab": {
          "base_uri": "https://localhost:8080/"
        },
        "outputId": "78338313-b637-43d9-94a8-0282f496135e"
      },
      "execution_count": 11,
      "outputs": [
        {
          "output_type": "stream",
          "name": "stdout",
          "text": [
            "     name  salary Designation\n",
            "0  Pulkit   50000           x\n",
            "1  Gaurav   40000           y\n",
            "2   Sahil   60000           z\n",
            "     name  salary\n",
            "0  Pulkit   50000\n",
            "1  Gaurav   40000\n",
            "2   Sahil   60000\n"
          ]
        }
      ]
    },
    {
      "cell_type": "code",
      "source": [
        "import pandas as pd\n",
        "df =pd.read_csv(\"sales.csv\")\n",
        "dt= df.head()\n",
        "print(dt)\n",
        "da = df.tail()\n",
        "print(da)\n",
        "print(df.groupby(\"State\")[\"Amount\"].sum()) #state wise sales.\n",
        "print(df.groupby(\"Gender\")[\"Amount\"].sum()) #gender wise sales.\n",
        "print(df.groupby([\"State\",\"Product\"])[\"Amount\"].sum()) #state and product wise sales."
      ],
      "metadata": {
        "colab": {
          "base_uri": "https://localhost:8080/"
        },
        "id": "m9ynq-2AGJsF",
        "outputId": "63b2be4f-ba61-4a90-94c7-07953d3356ad"
      },
      "execution_count": 18,
      "outputs": [
        {
          "output_type": "stream",
          "name": "stdout",
          "text": [
            "  Customer Gender       State     Product  Amount\n",
            "0    Alice      F  California      Laptop    1200\n",
            "1      Bob      M       Texas       Phone     800\n",
            "2  Charlie      M  California      Tablet     450\n",
            "3    Diana      F    New York      Laptop    1300\n",
            "4    Ethan      M       Texas  Headphones     200\n",
            "     Customer Gender       State     Product  Amount\n",
            "45     Evelyn      F     Florida      Tablet    1434\n",
            "46      Ethan      M       Texas      Laptop     664\n",
            "47    Abigail      M    New York  Headphones    1419\n",
            "48     Elijah      M    Illinois  Headphones    1508\n",
            "49  Charlotte      F  California       Phone    1623\n",
            "State\n",
            "California    12231\n",
            "Florida       13687\n",
            "Illinois      10720\n",
            "New York      10009\n",
            "Texas          6816\n",
            "Name: Amount, dtype: int64\n",
            "Gender\n",
            "F    23086\n",
            "M    30377\n",
            "Name: Amount, dtype: int64\n",
            "State       Product   \n",
            "California  Headphones     684\n",
            "            Laptop        2645\n",
            "            Phone         2373\n",
            "            Tablet        6529\n",
            "Florida     Headphones    1306\n",
            "            Laptop        3042\n",
            "            Phone         4967\n",
            "            Tablet        4372\n",
            "Illinois    Headphones    3878\n",
            "            Laptop        2369\n",
            "            Phone         3350\n",
            "            Tablet        1123\n",
            "New York    Headphones    3253\n",
            "            Laptop        4261\n",
            "            Phone         1361\n",
            "            Tablet        1134\n",
            "Texas       Headphones    3848\n",
            "            Laptop         995\n",
            "            Phone          800\n",
            "            Tablet        1173\n",
            "Name: Amount, dtype: int64\n"
          ]
        }
      ]
    },
    {
      "cell_type": "code",
      "source": [],
      "metadata": {
        "id": "LGUt9k4HJakC"
      },
      "execution_count": null,
      "outputs": []
    }
  ]
}