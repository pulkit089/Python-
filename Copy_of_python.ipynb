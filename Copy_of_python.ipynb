{
  "nbformat": 4,
  "nbformat_minor": 0,
  "metadata": {
    "colab": {
      "provenance": [],
      "authorship_tag": "ABX9TyOsisDae449C8EXOMAiPqv/",
      "include_colab_link": true
    },
    "kernelspec": {
      "name": "python3",
      "display_name": "Python 3"
    },
    "language_info": {
      "name": "python"
    }
  },
  "cells": [
    {
      "cell_type": "markdown",
      "metadata": {
        "id": "view-in-github",
        "colab_type": "text"
      },
      "source": [
        "<a href=\"https://colab.research.google.com/github/pulkit089/Python-/blob/main/Copy_of_python.ipynb\" target=\"_parent\"><img src=\"https://colab.research.google.com/assets/colab-badge.svg\" alt=\"Open In Colab\"/></a>"
      ]
    },
    {
      "cell_type": "code",
      "source": [
        "# work done by me\n",
        "''' My name is Pulkit Rana, ans m from Himachal Pradesh Distt kangra\n",
        "and himachal is also called The Land of God\n",
        "I have Many friends There\n",
        "i Love Python, Python is a Widely used\n",
        "Language and used in every kind of technology'''\n",
        "print(\"helloworld\")"
      ],
      "metadata": {
        "colab": {
          "base_uri": "https://localhost:8080/"
        },
        "id": "k95XcVLby3LF",
        "outputId": "c10733bf-9fdc-4c37-d616-8284989b1bce"
      },
      "execution_count": null,
      "outputs": [
        {
          "output_type": "stream",
          "name": "stdout",
          "text": [
            "helloworld\n"
          ]
        }
      ]
    },
    {
      "cell_type": "code",
      "source": [
        "print(\"              RESTAURANT MENUE\")\n",
        "print(\"\")\n",
        "print(\"              STARTER\")\n",
        "print(\"\")\n",
        "print(\"Greek Salad=             $15\")\n",
        "print(\"Finger Chips=            $18\")\n",
        "print(\"Paneer Cruspy=           $10\")\n",
        "print(\"Paneer Chilly=           $15\")\n",
        "print(\"Chicken Wings=           $20\")\n",
        "print(\"Caesar Salad=            $17\")\n",
        "print(\"\")\n",
        "print(\"             MAIN COURSE\")\n",
        "print(\"\")\n",
        "print(\"Chicken Tandoori=        $20\")\n",
        "print(\"Chicken Tikka=           $25\")\n",
        "print(\"Grilled Meatballs=       $30\")\n",
        "print(\"Lamb Steak=              $26\")\n",
        "print(\"Asian Chicken=           $30\")\n",
        "print(\"Lemon Chicken=           $28\")\n",
        "print(\"Malai Kofta=             $25\")\n",
        "print(\"\")\n",
        "print(\"            APPETIZERS\")\n",
        "print(\"\")\n",
        "print(\"Garlic Flatbread=        $30\")\n",
        "print(\"Tuna Tartaae=            $25\")\n",
        "print(\"Garlic Bread=            $32\")\n",
        "print(\"Cheese Fries=            $33\")\n",
        "print(\"Chicken Fingures=        $35\")\n",
        "print(\"Hotdog Sandwich=         $40\")\n",
        "print(\"Fish and Chips=          $45\")\n",
        "print(\"\")\n",
        "print(\"            DRINKS\")\n",
        "print(\"\")\n",
        "print(\"Coca-Cola Light=         $10\")\n",
        "print(\"Beer=                    $12\")\n",
        "print(\"Arabica Cafe=            $15\")\n",
        "print(\"Fresh Lemonade=          $20\")\n",
        "print(\"Cold Coffee=             $18\")\n",
        "print(\"\")\n",
        "print(\"            SALAD AND SOUPS\")\n",
        "print(\"\")\n",
        "print(\"Macaroni Soup=           $15\")\n",
        "print(\"Tex mex chilli=          $20\")\n",
        "print(\"Calamari=                $16\")\n",
        "print(\"Beef Taco=               $15\")\n",
        "print(\"Wonton Soup=             $20\")"
      ],
      "metadata": {
        "colab": {
          "base_uri": "https://localhost:8080/"
        },
        "id": "EsA9jZ1Elr_Y",
        "outputId": "0f2e67bc-ed0e-4246-8f7d-7c20b8f05178"
      },
      "execution_count": null,
      "outputs": [
        {
          "output_type": "stream",
          "name": "stdout",
          "text": [
            "              RESTAURANT MENUE\n",
            "\n",
            "              STARTER\n",
            "\n",
            "Greek Salad=             $15\n",
            "Finger Chips=            $18\n",
            "Paneer Cruspy=           $10\n",
            "Paneer Chilly=           $15\n",
            "Chicken Wings=           $20\n",
            "Caesar Salad=            $17\n",
            "\n",
            "             MAIN COURSE\n",
            "\n",
            "Chicken Tandoori=        $20\n",
            "Chicken Tikka=           $25\n",
            "Grilled Meatballs=       $30\n",
            "Lamb Steak=              $26\n",
            "Asian Chicken=           $30\n",
            "Lemon Chicken=           $28\n",
            "Malai Kofta=             $25\n",
            "\n",
            "            APPETIZERS\n",
            "\n",
            "Garlic Flatbread=        $30\n",
            "Tuna Tartaae=            $25\n",
            "Garlic Bread=            $32\n",
            "Cheese Fries=            $33\n",
            "Chicken Fingures=        $35\n",
            "Hotdog Sandwich=         $40\n",
            "Fish and Chips=          $45\n",
            "\n",
            "            DRINKS\n",
            "\n",
            "Coca-Cola Light=         $10\n",
            "Beer=                    $12\n",
            "Arabica Cafe=            $15\n",
            "Fresh Lemonade=          $20\n",
            "Cold Coffee=             $18\n",
            "\n",
            "            SALAD AND SOUPS\n",
            "\n",
            "Macaroni Soup=           $15\n",
            "Tex mex chilli=          $20\n",
            "Calamari=                $16\n",
            "Beef Taco=               $15\n",
            "Wonton Soup=             $20\n"
          ]
        }
      ]
    },
    {
      "cell_type": "code",
      "source": [
        "\n",
        "print(\"My name is Pulkit Rana\")\n",
        "print(\"My Age is 23\")"
      ],
      "metadata": {
        "id": "Sh7sAFON0l7m",
        "outputId": "f0db73b9-0338-4426-daa4-3a5995f5239e",
        "colab": {
          "base_uri": "https://localhost:8080/"
        }
      },
      "execution_count": null,
      "outputs": [
        {
          "output_type": "stream",
          "name": "stdout",
          "text": [
            "My name is Pulkit Rana\n",
            "My Age is 23\n"
          ]
        }
      ]
    },
    {
      "cell_type": "code",
      "source": [
        "my_name= \"Pulkit RRana\"\n",
        "myage=\"23\"\n",
        "phoneno=\"8091700386\"\n",
        "print(\"                                   PERSONAL DETAILS\")\n",
        "print(\"Name\", my_name)\n",
        "print(\"Age\" , myage)\n",
        "print(\"Time of birth= 6:12 PM\")\n",
        "print(\"Place of birth= Dehra Gopipur\")\n",
        "print(\"Email=023pulkitrana@gmail.com\")\n",
        "print(\"Mobuile No\" , phoneno)\n",
        "\n",
        "\n",
        "print(\"                                  EDUCATION QUALIFICATION      \")\n",
        "print(\"school= GAV Public School Kangra\")\n",
        "print(\"State= Himachal Pradesh\")\n",
        "print(\"College= DAV College Kangra\")\n",
        "print(\"Stream in school= Commerce\")\n",
        "print(\"Degree= Bachelors in commerce\")\n",
        "print(\"Course= Data Scientiest\")\n",
        "\n",
        "print(\"                                  FAMILY DETAILS     \")\n",
        "print(\"Mother's Name= Babita Thakur\")\n",
        "print(\"Father's Name= Shubhkaran Thakur\")\n",
        "print(\"siblings=N/A\")\n",
        "print(\"Address= VPO Jarot Teh Jawali Distt. Kangra Himachal Pradesh\")\n",
        "print(\"\")\n",
        "\n",
        "\n",
        "\n",
        "\n",
        "\n"
      ],
      "metadata": {
        "colab": {
          "base_uri": "https://localhost:8080/"
        },
        "id": "8rlSuMvO7yeA",
        "outputId": "ff387cf0-df23-40af-abe3-45c6bf98bf53"
      },
      "execution_count": null,
      "outputs": [
        {
          "output_type": "stream",
          "name": "stdout",
          "text": [
            "                                   PERSONAL DETAILS\n",
            "Name Pulkit RRana\n",
            "Age 23\n",
            "Time of birth= 6:12 PM\n",
            "Place of birth= Dehra Gopipur\n",
            "Email=023pulkitrana@gmail.com\n",
            "Mobuile No 8091700386\n",
            "                                  EDUCATION QUALIFICATION      \n",
            "school= GAV Public School Kangra\n",
            "State= Himachal Pradesh\n",
            "College= DAV College Kangra\n",
            "Stream in school= Commerce\n",
            "Degree= Bachelors in commerce\n",
            "Course= Data Scientiest\n",
            "                                  FAMILY DETAILS     \n",
            "Mother's Name= Babita Thakur\n",
            "Father's Name= Shubhkaran Thakur\n",
            "siblings=N/A\n",
            "Address= VPO Jarot Teh Jawali Distt. Kangra Himachal Pradesh\n",
            "\n"
          ]
        }
      ]
    },
    {
      "cell_type": "code",
      "source": [
        "a=10\n",
        "print(\"I am trying to put the  of a\", a)\n",
        "b=5.2\n",
        "print(\"Python is difficult\" , b)\n",
        "c=\"pulkit rana \"\n",
        "print(\"The value of C is\" , c)\n"
      ],
      "metadata": {
        "colab": {
          "base_uri": "https://localhost:8080/"
        },
        "id": "LHkKzxD3EJPQ",
        "outputId": "98005a58-7a7c-43b1-e1f1-b209564f5497"
      },
      "execution_count": null,
      "outputs": [
        {
          "output_type": "stream",
          "name": "stdout",
          "text": [
            "I am trying to put the  of a 10\n",
            "Python is difficult 5.2\n",
            "The value of C is pulkit rana \n"
          ]
        }
      ]
    },
    {
      "cell_type": "code",
      "source": [
        "# A short story about Myself\n",
        "print(\"\")\n",
        "name=  \"Pulkit Rana\"\n",
        "city=  \"Chandigarh Sector 15-A\"\n",
        "age=    23\n",
        "food=  \"Mutton\"\n",
        "animal=\"tiger\"\n",
        "place= \"Kangra Himachal Pradesh\"\n",
        "dream= \"Data scientiest.\"\n",
        "hobby= \"Play Cricket.\"\n",
        "Language=\"Python\"\n",
        "print(\"\")\n",
        "print(\"Let me tell you a story in brief about myself,\")\n",
        "print(\"My name is\" , name , \"and i am \" , age ,\"years old, and my favourite food which i always love to eat is\", food)\n",
        "print(\"i live in\" , city)\n",
        "print(\"But basically I m from\" , place,\"and the favourite part of my life is to watch and\",hobby)\n",
        "print(\"Everyday, I spend a few hours learning new tgings in\", Language)\n",
        "print(\"and my ultimate goal is to become a successfull\",dream)\n",
        "print(\"\")\n",
        "print(\"\")\n",
        "print(\"Thank you for reading a story about me.\")\n"
      ],
      "metadata": {
        "id": "Y-gOX2UaamJf",
        "outputId": "dc64f723-2533-4869-88ee-9319e9755d79",
        "colab": {
          "base_uri": "https://localhost:8080/"
        }
      },
      "execution_count": null,
      "outputs": [
        {
          "output_type": "stream",
          "name": "stdout",
          "text": [
            "\n",
            "\n",
            "Let me tell you a story in brief about myself,\n",
            "My name is Pulkit Rana and i am  23 years old, and my favourite food which i always love to eat is Mutton\n",
            "i live in Chandigarh Sector 15-A\n",
            "But basically I m from Kangra Himachal Pradesh and the favourite part of my life is to watch and Play Cricket.\n",
            "Everyday, I spend a few hours learning new tgings in Python\n",
            "and my ultimate goal is to become a successfull Data scientiest.\n",
            "\n",
            "\n",
            "Thank you for reading a story about me.\n"
          ]
        }
      ]
    }
  ]
}