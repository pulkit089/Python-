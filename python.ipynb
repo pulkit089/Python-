{
  "nbformat": 4,
  "nbformat_minor": 0,
  "metadata": {
    "colab": {
      "provenance": [],
      "authorship_tag": "ABX9TyN/KOS27BHZPqd8PP6ByCx0",
      "include_colab_link": true
    },
    "kernelspec": {
      "name": "python3",
      "display_name": "Python 3"
    },
    "language_info": {
      "name": "python"
    }
  },
  "cells": [
    {
      "cell_type": "markdown",
      "metadata": {
        "id": "view-in-github",
        "colab_type": "text"
      },
      "source": [
        "<a href=\"https://colab.research.google.com/github/pulkit089/Python-/blob/main/python.ipynb\" target=\"_parent\"><img src=\"https://colab.research.google.com/assets/colab-badge.svg\" alt=\"Open In Colab\"/></a>"
      ]
    },
    {
      "cell_type": "code",
      "source": [
        "# work done by me\n",
        "''' My name is Pulkit Rana, ans m from Himachal Pradesh Distt kangra\n",
        "and himachal is also called The Land of God\n",
        "I have Many friends There\n",
        "i Love Python, Python is a Widely used\n",
        "Language and used in every kind of technology'''\n",
        "print(\"helloworld\")"
      ],
      "metadata": {
        "colab": {
          "base_uri": "https://localhost:8080/"
        },
        "id": "k95XcVLby3LF",
        "outputId": "584fff7a-0f07-4a4a-b7e1-97eb5573ae03"
      },
      "execution_count": 7,
      "outputs": [
        {
          "output_type": "stream",
          "name": "stdout",
          "text": [
            "helloworld\n"
          ]
        }
      ]
    },
    {
      "cell_type": "code",
      "source": [
        "\n",
        "print(\"My name is Pulkit Rana\")\n",
        "print(\"My Age is 23\")"
      ],
      "metadata": {
        "id": "Sh7sAFON0l7m",
        "outputId": "ddd32b02-73db-4c55-c644-a58ea06dcb19",
        "colab": {
          "base_uri": "https://localhost:8080/"
        }
      },
      "execution_count": 9,
      "outputs": [
        {
          "output_type": "stream",
          "name": "stdout",
          "text": [
            "My name is Pulkit Rana\n",
            "My Age is 23\n"
          ]
        }
      ]
    },
    {
      "cell_type": "code",
      "source": [
        "my_name= \"Pulkit RRana\"\n",
        "myage=\"23\"\n",
        "phoneno=\"8091700386\"\n",
        "print(\"                                   PERSONAL DETAILS\")\n",
        "print(\"Name\", my_name)\n",
        "print(\"Age\" , myage)\n",
        "print(\"Time of birth= 6:12 PM\")\n",
        "print(\"Place of birth= Dehra Gopipur\")\n",
        "print(\"Email=023pulkitrana@gmail.com\")\n",
        "print(\"Mobuile No\" , phoneno)\n",
        "\n",
        "school=\"=GAV Public School\"\n",
        "print(\"                                  EDUCATION QUALIFICATION      \")\n",
        "print(\"school\" , school)\n",
        "print(\"State= Himachal Pradesh\")\n",
        "print(\"College= DAV College Kangra\")\n",
        "print(\"Stream in school= Commerce\")\n",
        "print(\"Degree= Bachelors in commerce\")\n",
        "print(\"Course= Data Scientiest\")\n",
        "\n",
        "\n",
        "mother=\"= babita Thakur\"\n",
        "print(\"                                  FAMILY DETAILS     \")\n",
        "print(\"Mother's Name\" , mother)\n",
        "print(\"Father's Name= Shubhkaran Thakur\")\n",
        "print(\"siblings=N/A\")\n",
        "print(\"Address= VPO Jarot Teh Jawali Distt. Kangra Himachal Pradesh\")\n",
        "print(\"\")\n",
        "\n",
        "\n",
        "\n",
        "\n",
        "\n"
      ],
      "metadata": {
        "colab": {
          "base_uri": "https://localhost:8080/"
        },
        "id": "8rlSuMvO7yeA",
        "outputId": "eacaa016-1560-4a5f-b977-90fc209ceeda"
      },
      "execution_count": 15,
      "outputs": [
        {
          "output_type": "stream",
          "name": "stdout",
          "text": [
            "                                   PERSONAL DETAILS\n",
            "Name Pulkit RRana\n",
            "Age 23\n",
            "Time of birth= 6:12 PM\n",
            "Place of birth= Dehra Gopipur\n",
            "Email=023pulkitrana@gmail.com\n",
            "Mobuile No 8091700386\n",
            "                                  EDUCATION QUALIFICATION      \n",
            "school =GAV Public School\n",
            "State= Himachal Pradesh\n",
            "College= DAV College Kangra\n",
            "Stream in school= Commerce\n",
            "Degree= Bachelors in commerce\n",
            "Course= Data Scientiest\n",
            "                                  FAMILY DETAILS     \n",
            "Mother's Name = babita Thakur\n",
            "Father's Name= Shubhkaran Thakur\n",
            "siblings=N/A\n",
            "Address= VPO Jarot Teh Jawali Distt. Kangra Himachal Pradesh\n",
            "\n"
          ]
        }
      ]
    },
    {
      "cell_type": "code",
      "source": [
        "a=10\n",
        "print(\"I am trying to put the  of a\", a)\n",
        "b=5.2\n",
        "print(\"Python is difficult\" , b)\n",
        "c=\"pulkit rana \"\n",
        "print(\"The value of C is\" , c)\n",
        "pulkit=100\n",
        "print(\"we have value\" , pulkit)\n"
      ],
      "metadata": {
        "colab": {
          "base_uri": "https://localhost:8080/"
        },
        "id": "LHkKzxD3EJPQ",
        "outputId": "53418574-4165-4920-c965-34e23a4b2fc1"
      },
      "execution_count": 1,
      "outputs": [
        {
          "output_type": "stream",
          "name": "stdout",
          "text": [
            "I am trying to put the  of a 10\n",
            "Python is difficult 5.2\n",
            "The value of C is pulkit rana \n",
            "we have value 100\n"
          ]
        }
      ]
    },
    {
      "cell_type": "code",
      "source": [
        "# Home work Python\n",
        "\"\"\" cbitts chandigarh is the best coaching institute\n",
        "in chandigarh, where you can get training fir IT, Accounts management, English Speaking courses.\n",
        "CBitts provides best web Designing Training in Chandigarh\"\"\"\n",
        "print(\"helloworld\")\n",
        "a=456\n",
        "print(\"value of a is\" , a)\n",
        "rohit=900\n",
        "print(\"The score of mohit is\" , rohit)\n",
        "address=\"= vpo jarot teh jawali Distt. Kangra Himachal Pradesh \"\n",
        "print(\"address\" , address)\n"
      ],
      "metadata": {
        "id": "qb3m5eknrwK5",
        "outputId": "a4ddb82b-89ea-4bc2-b5e2-0db54e57c76d",
        "colab": {
          "base_uri": "https://localhost:8080/"
        }
      },
      "execution_count": 24,
      "outputs": [
        {
          "output_type": "stream",
          "name": "stdout",
          "text": [
            "helloworld\n",
            "value of a is 456\n",
            "The score of mohit is 900\n",
            "address = vpo jarot teh jawali Distt. Kangra Himachal Pradesh \n"
          ]
        }
      ]
    }
  ]
}